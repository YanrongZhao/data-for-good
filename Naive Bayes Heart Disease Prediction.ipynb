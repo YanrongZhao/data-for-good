{
 "cells": [
  {
   "cell_type": "markdown",
   "id": "08685b16",
   "metadata": {},
   "source": [
    "# Naive Bayes Algorithm\n",
    "\n",
    "## Background reading:\n",
    "\n",
    "*Intro to Statistical Learning*: Book Sections: 4.4.4 Naive Bayes\n",
    "\n",
    "*Ethical Algorithm*: Chapter 1, Algorithmic Privacy, A Bad Solution, (Page 26-31)\n",
    "\n",
    "## Dataset:\n",
    "\n",
    "The example on github uses the Cleveland Heart Disease data set from UCI\n",
    "https://archive.ics.uci.edu/ml/datasets/Heart+Disease\n"
   ]
  },
  {
   "cell_type": "markdown",
   "id": "583c7705",
   "metadata": {},
   "source": [
    "**14 attributes used:**\n",
    "\n",
    "1. (age)  \n",
    "2. (sex)  (1 = male, 0 = female)\n",
    "3. (cp) = presence of chest pain (1 = typical angina, 2 = atypical angina, 3 = non-anginal pain, 4 = asymptomatic)\n",
    "4. (restbps) = resting blood pressure in mmHg\n",
    "5. (chol) = cholesterol level in mg/dL\n",
    "6. (fbs) = fasting blood sugar > 120 mg/dl (1 = yes , 0 = no)\n",
    "7. (restecg)  = resting electrocardiographic level (0 = normal, 1 = having ST-T wave abnormality, 2 = showing probable or definite left ventricular hypertrophy)\n",
    "8. (thalach)  = maximum heart rate achieved \n",
    "9. (exang)  = exercise induced angina (1 = yes; 0 = no) \n",
    "10. (oldpeak)  = ST depression induced by exercise relative to rest \n",
    "11. (slope) = the slope of the peak exercise ST segment (1 = upsloping, 2 = flat, 3 = downsloping)\n",
    "12. (ca)  = number of major vessels colored by fluoroscopy  (0-3)\n",
    "13. (thal)  = (3 = normal; 6 = fixed defect; 7 = reversible defect)\n",
    "14. (num) = diagnosis of heart disease (this is the class that we want to predict; 0 = no heart disease, 1 = heart disease)\n",
    "\n",
    "**Classes:**\n",
    "0 = the patient has no presence of heart disease\n",
    "1= the patient has heart disease\n"
   ]
  },
  {
   "cell_type": "markdown",
   "id": "8cbc553e",
   "metadata": {},
   "source": [
    "## Essence of Data\n",
    "**What is Naive Bayes?**\n",
    "\n",
    "Naive Bayes is a probabilistic algorithm that can be used for classification or clustering. The model predicts the instance’s class based on the instance's attributes using conditional probabilities.\n",
    "\n",
    "Example: Spam filters in email applications use Naive Bayes to decide if an email is spam or not.\n",
    "\n",
    "There are three types of Naive Bayes classification algorithms:\n",
    "1. Gaussian Naive Bayes should be used for continuous values. It is assumed that the probability of these values follows a normal distribution.\n",
    "2. Multinomial Naive Bayes should be used for discrete values.\n",
    "3. Bernoulli Naive Bayes should be used if the value is a random variable that can only be one of two values (such as 0 and 1).\n",
    "\n",
    "**How does Naive Bayes work?**\n",
    "\n",
    "The algorithm predicts the class that the instance belongs to using Baye’s Theorem for conditional probabilities.\n",
    "\n",
    "<div align = 'center'><font size = '24'>$P(A|B)=\\frac{P(B|A)P(A)}{P(B)}$</font></div>\n",
    "\n",
    "Example: from the heart disease dataset\n",
    "\n",
    "<div align = 'center'><font size = '4'>$P(heart\\ disease|male)=\\frac{P(male|heart\\ disease)P(heart\\ disease)}{P(male)}=\\frac{\\frac{114}{139}\\times\\frac{139}{303}}{\\frac{206}{303}}=0.5534$</font></div>\n",
    "\n",
    "**Two types of problems:**\n",
    "\n",
    "**Classification**- The input instances (from the training data) are classified based on their class labels (whatever parameter we are trying to predict).  It is used for supervised learning because training data is required. Naive Bayes is typically used for classification.\n",
    "The heart disease tutorial uses classification methods.\n",
    "\n",
    "**Clustering-** There are no class labels and the instances are grouped together based on their similarities. Clustering is used for unsupervised learning.\n",
    "\n",
    "**What assumptions are made?**\n",
    "\n",
    "It is called “Naive” because it is assumed that all attributes are independent of each other.\n",
    "\n",
    "**What are the issues that these assumptions can cause?**\n",
    "\n",
    "All of the attributes are not necessarily independent of each other.\n",
    "For example in the Cleveland Heart Disease dataset exercise induced angina can be correlated to the presence of stationary angina. Also, resting blood pressure and cholesterol levels are correlated. Bayesian Network (Bayes net) is a probabilistic graphical model that extends on capabilities of Naive Bayes by modeling specific dependencies between the attributes. In the most general form this is represented by a directed graph where each edge represents a conditional probability distribution between two attribute nodes. \n",
    "\n",
    "Related Articles:\n",
    "Harvard Business Review: 10 Promising AI Applications in Health Care:\n",
    "\n",
    "https://hbr.org/2018/05/10-promising-ai-applications-in-health-care?ab=at_art_art_1x4_s01 \n",
    "\n",
    "**Related Concepts- Bayes decision boundary, test error\n",
    "Bayes Decision Boundary**\n",
    "\n",
    "![](./fig/Naive/fig1.png)\n",
    "\n",
    "The purple dashed line represents the Bayes decision boundary. The decision boundary represents the points where the probability is exactly 50% of belonging to either class.\n",
    "The orange grid indicates the region in which a test observation will be assigned to the orange class, and the blue grid indicates the region in which a test observation will be assigned to the blue class.\n",
    "\n",
    "\n",
    "data bias is reflected as algorithmic error\n"
   ]
  },
  {
   "cell_type": "markdown",
   "id": "0626812b",
   "metadata": {},
   "source": [
    "# Example Codes"
   ]
  },
  {
   "cell_type": "code",
   "execution_count": 1,
   "id": "00bdbda5-e4e2-4751-848a-20939aac64d9",
   "metadata": {},
   "outputs": [],
   "source": [
    "import numpy as np\n",
    "import pandas as pd\n",
    "import math\n",
    "import sklearn\n",
    "from sklearn.naive_bayes import BernoulliNB\n",
    "from sklearn.naive_bayes import GaussianNB\n",
    "from sklearn.naive_bayes import MultinomialNB\n",
    "from sklearn.model_selection import train_test_split\n",
    "from sklearn import metrics\n",
    "import matplotlib.pyplot as plt\n",
    "import seaborn as sns\n",
    "from scipy.stats import kstest"
   ]
  },
  {
   "cell_type": "code",
   "execution_count": 2,
   "id": "00e318f7-ea3c-4468-98d1-0386cc665e8c",
   "metadata": {},
   "outputs": [
    {
     "data": {
      "text/html": [
       "<div>\n",
       "<style scoped>\n",
       "    .dataframe tbody tr th:only-of-type {\n",
       "        vertical-align: middle;\n",
       "    }\n",
       "\n",
       "    .dataframe tbody tr th {\n",
       "        vertical-align: top;\n",
       "    }\n",
       "\n",
       "    .dataframe thead th {\n",
       "        text-align: right;\n",
       "    }\n",
       "</style>\n",
       "<table border=\"1\" class=\"dataframe\">\n",
       "  <thead>\n",
       "    <tr style=\"text-align: right;\">\n",
       "      <th></th>\n",
       "      <th>age</th>\n",
       "      <th>sex</th>\n",
       "      <th>chestpain</th>\n",
       "      <th>restbps</th>\n",
       "      <th>cholesterol</th>\n",
       "      <th>fastingbs</th>\n",
       "      <th>restecg</th>\n",
       "      <th>thalach</th>\n",
       "      <th>exerciseang</th>\n",
       "      <th>oldpeak</th>\n",
       "      <th>slope</th>\n",
       "      <th>ca</th>\n",
       "      <th>thal</th>\n",
       "      <th>heartdisease</th>\n",
       "    </tr>\n",
       "  </thead>\n",
       "  <tbody>\n",
       "    <tr>\n",
       "      <th>0</th>\n",
       "      <td>63</td>\n",
       "      <td>1</td>\n",
       "      <td>1</td>\n",
       "      <td>145</td>\n",
       "      <td>233</td>\n",
       "      <td>1</td>\n",
       "      <td>2</td>\n",
       "      <td>150</td>\n",
       "      <td>0</td>\n",
       "      <td>2.3</td>\n",
       "      <td>3</td>\n",
       "      <td>0</td>\n",
       "      <td>6</td>\n",
       "      <td>0</td>\n",
       "    </tr>\n",
       "    <tr>\n",
       "      <th>1</th>\n",
       "      <td>67</td>\n",
       "      <td>1</td>\n",
       "      <td>4</td>\n",
       "      <td>160</td>\n",
       "      <td>286</td>\n",
       "      <td>0</td>\n",
       "      <td>2</td>\n",
       "      <td>108</td>\n",
       "      <td>1</td>\n",
       "      <td>1.5</td>\n",
       "      <td>2</td>\n",
       "      <td>3</td>\n",
       "      <td>3</td>\n",
       "      <td>1</td>\n",
       "    </tr>\n",
       "    <tr>\n",
       "      <th>2</th>\n",
       "      <td>67</td>\n",
       "      <td>1</td>\n",
       "      <td>4</td>\n",
       "      <td>120</td>\n",
       "      <td>229</td>\n",
       "      <td>0</td>\n",
       "      <td>2</td>\n",
       "      <td>129</td>\n",
       "      <td>1</td>\n",
       "      <td>2.6</td>\n",
       "      <td>2</td>\n",
       "      <td>2</td>\n",
       "      <td>7</td>\n",
       "      <td>1</td>\n",
       "    </tr>\n",
       "    <tr>\n",
       "      <th>3</th>\n",
       "      <td>37</td>\n",
       "      <td>1</td>\n",
       "      <td>3</td>\n",
       "      <td>130</td>\n",
       "      <td>250</td>\n",
       "      <td>0</td>\n",
       "      <td>0</td>\n",
       "      <td>187</td>\n",
       "      <td>0</td>\n",
       "      <td>3.5</td>\n",
       "      <td>3</td>\n",
       "      <td>0</td>\n",
       "      <td>3</td>\n",
       "      <td>0</td>\n",
       "    </tr>\n",
       "    <tr>\n",
       "      <th>4</th>\n",
       "      <td>41</td>\n",
       "      <td>0</td>\n",
       "      <td>2</td>\n",
       "      <td>130</td>\n",
       "      <td>204</td>\n",
       "      <td>0</td>\n",
       "      <td>2</td>\n",
       "      <td>172</td>\n",
       "      <td>0</td>\n",
       "      <td>1.4</td>\n",
       "      <td>1</td>\n",
       "      <td>0</td>\n",
       "      <td>3</td>\n",
       "      <td>0</td>\n",
       "    </tr>\n",
       "    <tr>\n",
       "      <th>...</th>\n",
       "      <td>...</td>\n",
       "      <td>...</td>\n",
       "      <td>...</td>\n",
       "      <td>...</td>\n",
       "      <td>...</td>\n",
       "      <td>...</td>\n",
       "      <td>...</td>\n",
       "      <td>...</td>\n",
       "      <td>...</td>\n",
       "      <td>...</td>\n",
       "      <td>...</td>\n",
       "      <td>...</td>\n",
       "      <td>...</td>\n",
       "      <td>...</td>\n",
       "    </tr>\n",
       "    <tr>\n",
       "      <th>298</th>\n",
       "      <td>45</td>\n",
       "      <td>1</td>\n",
       "      <td>1</td>\n",
       "      <td>110</td>\n",
       "      <td>264</td>\n",
       "      <td>0</td>\n",
       "      <td>0</td>\n",
       "      <td>132</td>\n",
       "      <td>0</td>\n",
       "      <td>1.2</td>\n",
       "      <td>2</td>\n",
       "      <td>0</td>\n",
       "      <td>7</td>\n",
       "      <td>1</td>\n",
       "    </tr>\n",
       "    <tr>\n",
       "      <th>299</th>\n",
       "      <td>68</td>\n",
       "      <td>1</td>\n",
       "      <td>4</td>\n",
       "      <td>144</td>\n",
       "      <td>193</td>\n",
       "      <td>1</td>\n",
       "      <td>0</td>\n",
       "      <td>141</td>\n",
       "      <td>0</td>\n",
       "      <td>3.4</td>\n",
       "      <td>2</td>\n",
       "      <td>2</td>\n",
       "      <td>7</td>\n",
       "      <td>1</td>\n",
       "    </tr>\n",
       "    <tr>\n",
       "      <th>300</th>\n",
       "      <td>57</td>\n",
       "      <td>1</td>\n",
       "      <td>4</td>\n",
       "      <td>130</td>\n",
       "      <td>131</td>\n",
       "      <td>0</td>\n",
       "      <td>0</td>\n",
       "      <td>115</td>\n",
       "      <td>1</td>\n",
       "      <td>1.2</td>\n",
       "      <td>2</td>\n",
       "      <td>1</td>\n",
       "      <td>7</td>\n",
       "      <td>1</td>\n",
       "    </tr>\n",
       "    <tr>\n",
       "      <th>301</th>\n",
       "      <td>57</td>\n",
       "      <td>0</td>\n",
       "      <td>2</td>\n",
       "      <td>130</td>\n",
       "      <td>236</td>\n",
       "      <td>0</td>\n",
       "      <td>2</td>\n",
       "      <td>174</td>\n",
       "      <td>0</td>\n",
       "      <td>0.0</td>\n",
       "      <td>2</td>\n",
       "      <td>1</td>\n",
       "      <td>3</td>\n",
       "      <td>1</td>\n",
       "    </tr>\n",
       "    <tr>\n",
       "      <th>302</th>\n",
       "      <td>38</td>\n",
       "      <td>1</td>\n",
       "      <td>3</td>\n",
       "      <td>138</td>\n",
       "      <td>175</td>\n",
       "      <td>0</td>\n",
       "      <td>0</td>\n",
       "      <td>173</td>\n",
       "      <td>0</td>\n",
       "      <td>0.0</td>\n",
       "      <td>1</td>\n",
       "      <td>1</td>\n",
       "      <td>3</td>\n",
       "      <td>0</td>\n",
       "    </tr>\n",
       "  </tbody>\n",
       "</table>\n",
       "<p>303 rows × 14 columns</p>\n",
       "</div>"
      ],
      "text/plain": [
       "     age  sex  chestpain  restbps  cholesterol  fastingbs  restecg  thalach  \\\n",
       "0     63    1          1      145          233          1        2      150   \n",
       "1     67    1          4      160          286          0        2      108   \n",
       "2     67    1          4      120          229          0        2      129   \n",
       "3     37    1          3      130          250          0        0      187   \n",
       "4     41    0          2      130          204          0        2      172   \n",
       "..   ...  ...        ...      ...          ...        ...      ...      ...   \n",
       "298   45    1          1      110          264          0        0      132   \n",
       "299   68    1          4      144          193          1        0      141   \n",
       "300   57    1          4      130          131          0        0      115   \n",
       "301   57    0          2      130          236          0        2      174   \n",
       "302   38    1          3      138          175          0        0      173   \n",
       "\n",
       "     exerciseang  oldpeak  slope  ca  thal  heartdisease  \n",
       "0              0      2.3      3   0     6             0  \n",
       "1              1      1.5      2   3     3             1  \n",
       "2              1      2.6      2   2     7             1  \n",
       "3              0      3.5      3   0     3             0  \n",
       "4              0      1.4      1   0     3             0  \n",
       "..           ...      ...    ...  ..   ...           ...  \n",
       "298            0      1.2      2   0     7             1  \n",
       "299            0      3.4      2   2     7             1  \n",
       "300            1      1.2      2   1     7             1  \n",
       "301            0      0.0      2   1     3             1  \n",
       "302            0      0.0      1   1     3             0  \n",
       "\n",
       "[303 rows x 14 columns]"
      ]
     },
     "execution_count": 2,
     "metadata": {},
     "output_type": "execute_result"
    }
   ],
   "source": [
    "#load file as a dataframe\n",
    "#df = pd.read_csv('processed.cleveland.csv')\n",
    "df = pd.read_csv('processed.cleveland.csv')\n",
    "#df\n",
    "df"
   ]
  },
  {
   "cell_type": "code",
   "execution_count": 3,
   "id": "490af443-6c86-4f21-ac16-e0d63eb2e489",
   "metadata": {},
   "outputs": [
    {
     "data": {
      "text/html": [
       "<div>\n",
       "<style scoped>\n",
       "    .dataframe tbody tr th:only-of-type {\n",
       "        vertical-align: middle;\n",
       "    }\n",
       "\n",
       "    .dataframe tbody tr th {\n",
       "        vertical-align: top;\n",
       "    }\n",
       "\n",
       "    .dataframe thead th {\n",
       "        text-align: right;\n",
       "    }\n",
       "</style>\n",
       "<table border=\"1\" class=\"dataframe\">\n",
       "  <thead>\n",
       "    <tr style=\"text-align: right;\">\n",
       "      <th></th>\n",
       "      <th>age</th>\n",
       "      <th>sex</th>\n",
       "      <th>chestpain</th>\n",
       "      <th>restbps</th>\n",
       "      <th>cholesterol</th>\n",
       "      <th>fastingbs</th>\n",
       "      <th>restecg</th>\n",
       "      <th>thalach</th>\n",
       "      <th>exerciseang</th>\n",
       "      <th>oldpeak</th>\n",
       "      <th>slope</th>\n",
       "      <th>ca</th>\n",
       "      <th>thal</th>\n",
       "      <th>heartdisease</th>\n",
       "    </tr>\n",
       "  </thead>\n",
       "  <tbody>\n",
       "    <tr>\n",
       "      <th>count</th>\n",
       "      <td>303.000000</td>\n",
       "      <td>303.000000</td>\n",
       "      <td>303.000000</td>\n",
       "      <td>303.000000</td>\n",
       "      <td>303.000000</td>\n",
       "      <td>303.000000</td>\n",
       "      <td>303.000000</td>\n",
       "      <td>303.000000</td>\n",
       "      <td>303.000000</td>\n",
       "      <td>303.000000</td>\n",
       "      <td>303.000000</td>\n",
       "      <td>303.000000</td>\n",
       "      <td>303.000000</td>\n",
       "      <td>303.000000</td>\n",
       "    </tr>\n",
       "    <tr>\n",
       "      <th>mean</th>\n",
       "      <td>54.438944</td>\n",
       "      <td>0.679868</td>\n",
       "      <td>3.158416</td>\n",
       "      <td>131.689769</td>\n",
       "      <td>246.693069</td>\n",
       "      <td>0.148515</td>\n",
       "      <td>0.990099</td>\n",
       "      <td>149.607261</td>\n",
       "      <td>0.326733</td>\n",
       "      <td>1.039604</td>\n",
       "      <td>1.600660</td>\n",
       "      <td>0.679868</td>\n",
       "      <td>4.722772</td>\n",
       "      <td>0.458746</td>\n",
       "    </tr>\n",
       "    <tr>\n",
       "      <th>std</th>\n",
       "      <td>9.038662</td>\n",
       "      <td>0.467299</td>\n",
       "      <td>0.960126</td>\n",
       "      <td>17.599748</td>\n",
       "      <td>51.776918</td>\n",
       "      <td>0.356198</td>\n",
       "      <td>0.994971</td>\n",
       "      <td>22.875003</td>\n",
       "      <td>0.469794</td>\n",
       "      <td>1.161075</td>\n",
       "      <td>0.616226</td>\n",
       "      <td>0.934878</td>\n",
       "      <td>1.938383</td>\n",
       "      <td>0.499120</td>\n",
       "    </tr>\n",
       "    <tr>\n",
       "      <th>min</th>\n",
       "      <td>29.000000</td>\n",
       "      <td>0.000000</td>\n",
       "      <td>1.000000</td>\n",
       "      <td>94.000000</td>\n",
       "      <td>126.000000</td>\n",
       "      <td>0.000000</td>\n",
       "      <td>0.000000</td>\n",
       "      <td>71.000000</td>\n",
       "      <td>0.000000</td>\n",
       "      <td>0.000000</td>\n",
       "      <td>1.000000</td>\n",
       "      <td>0.000000</td>\n",
       "      <td>3.000000</td>\n",
       "      <td>0.000000</td>\n",
       "    </tr>\n",
       "    <tr>\n",
       "      <th>25%</th>\n",
       "      <td>48.000000</td>\n",
       "      <td>0.000000</td>\n",
       "      <td>3.000000</td>\n",
       "      <td>120.000000</td>\n",
       "      <td>211.000000</td>\n",
       "      <td>0.000000</td>\n",
       "      <td>0.000000</td>\n",
       "      <td>133.500000</td>\n",
       "      <td>0.000000</td>\n",
       "      <td>0.000000</td>\n",
       "      <td>1.000000</td>\n",
       "      <td>0.000000</td>\n",
       "      <td>3.000000</td>\n",
       "      <td>0.000000</td>\n",
       "    </tr>\n",
       "    <tr>\n",
       "      <th>50%</th>\n",
       "      <td>56.000000</td>\n",
       "      <td>1.000000</td>\n",
       "      <td>3.000000</td>\n",
       "      <td>130.000000</td>\n",
       "      <td>241.000000</td>\n",
       "      <td>0.000000</td>\n",
       "      <td>1.000000</td>\n",
       "      <td>153.000000</td>\n",
       "      <td>0.000000</td>\n",
       "      <td>0.800000</td>\n",
       "      <td>2.000000</td>\n",
       "      <td>0.000000</td>\n",
       "      <td>3.000000</td>\n",
       "      <td>0.000000</td>\n",
       "    </tr>\n",
       "    <tr>\n",
       "      <th>75%</th>\n",
       "      <td>61.000000</td>\n",
       "      <td>1.000000</td>\n",
       "      <td>4.000000</td>\n",
       "      <td>140.000000</td>\n",
       "      <td>275.000000</td>\n",
       "      <td>0.000000</td>\n",
       "      <td>2.000000</td>\n",
       "      <td>166.000000</td>\n",
       "      <td>1.000000</td>\n",
       "      <td>1.600000</td>\n",
       "      <td>2.000000</td>\n",
       "      <td>1.000000</td>\n",
       "      <td>7.000000</td>\n",
       "      <td>1.000000</td>\n",
       "    </tr>\n",
       "    <tr>\n",
       "      <th>max</th>\n",
       "      <td>77.000000</td>\n",
       "      <td>1.000000</td>\n",
       "      <td>4.000000</td>\n",
       "      <td>200.000000</td>\n",
       "      <td>564.000000</td>\n",
       "      <td>1.000000</td>\n",
       "      <td>2.000000</td>\n",
       "      <td>202.000000</td>\n",
       "      <td>1.000000</td>\n",
       "      <td>6.200000</td>\n",
       "      <td>3.000000</td>\n",
       "      <td>3.000000</td>\n",
       "      <td>7.000000</td>\n",
       "      <td>1.000000</td>\n",
       "    </tr>\n",
       "  </tbody>\n",
       "</table>\n",
       "</div>"
      ],
      "text/plain": [
       "              age         sex   chestpain     restbps  cholesterol  \\\n",
       "count  303.000000  303.000000  303.000000  303.000000   303.000000   \n",
       "mean    54.438944    0.679868    3.158416  131.689769   246.693069   \n",
       "std      9.038662    0.467299    0.960126   17.599748    51.776918   \n",
       "min     29.000000    0.000000    1.000000   94.000000   126.000000   \n",
       "25%     48.000000    0.000000    3.000000  120.000000   211.000000   \n",
       "50%     56.000000    1.000000    3.000000  130.000000   241.000000   \n",
       "75%     61.000000    1.000000    4.000000  140.000000   275.000000   \n",
       "max     77.000000    1.000000    4.000000  200.000000   564.000000   \n",
       "\n",
       "        fastingbs     restecg     thalach  exerciseang     oldpeak  \\\n",
       "count  303.000000  303.000000  303.000000   303.000000  303.000000   \n",
       "mean     0.148515    0.990099  149.607261     0.326733    1.039604   \n",
       "std      0.356198    0.994971   22.875003     0.469794    1.161075   \n",
       "min      0.000000    0.000000   71.000000     0.000000    0.000000   \n",
       "25%      0.000000    0.000000  133.500000     0.000000    0.000000   \n",
       "50%      0.000000    1.000000  153.000000     0.000000    0.800000   \n",
       "75%      0.000000    2.000000  166.000000     1.000000    1.600000   \n",
       "max      1.000000    2.000000  202.000000     1.000000    6.200000   \n",
       "\n",
       "            slope          ca        thal  heartdisease  \n",
       "count  303.000000  303.000000  303.000000    303.000000  \n",
       "mean     1.600660    0.679868    4.722772      0.458746  \n",
       "std      0.616226    0.934878    1.938383      0.499120  \n",
       "min      1.000000    0.000000    3.000000      0.000000  \n",
       "25%      1.000000    0.000000    3.000000      0.000000  \n",
       "50%      2.000000    0.000000    3.000000      0.000000  \n",
       "75%      2.000000    1.000000    7.000000      1.000000  \n",
       "max      3.000000    3.000000    7.000000      1.000000  "
      ]
     },
     "execution_count": 3,
     "metadata": {},
     "output_type": "execute_result"
    }
   ],
   "source": [
    "#check descriptive statistics of dataset\n",
    "df.describe()"
   ]
  },
  {
   "cell_type": "code",
   "execution_count": 4,
   "id": "f7f1f75d-1074-41e2-93bf-54da297bb37d",
   "metadata": {},
   "outputs": [
    {
     "data": {
      "text/plain": [
       "age             0\n",
       "sex             0\n",
       "chestpain       0\n",
       "restbps         0\n",
       "cholesterol     0\n",
       "fastingbs       0\n",
       "restecg         0\n",
       "thalach         0\n",
       "exerciseang     0\n",
       "oldpeak         0\n",
       "slope           0\n",
       "ca              0\n",
       "thal            0\n",
       "heartdisease    0\n",
       "dtype: int64"
      ]
     },
     "execution_count": 4,
     "metadata": {},
     "output_type": "execute_result"
    }
   ],
   "source": [
    "#checking for null values\n",
    "df.isna().sum()"
   ]
  },
  {
   "cell_type": "code",
   "execution_count": 5,
   "id": "72ff9597-5628-4d53-9bf6-ae05bf37bec6",
   "metadata": {},
   "outputs": [],
   "source": [
    "#separate target attribute\n",
    "target = df.heartdisease\n",
    "predictors = df.drop('heartdisease', axis = 'columns')"
   ]
  },
  {
   "cell_type": "code",
   "execution_count": 6,
   "id": "dd7e339a",
   "metadata": {},
   "outputs": [
    {
     "data": {
      "text/plain": [
       "(array([149.,  50.,  40.,  24.,  20.,  11.,   6.,   1.,   0.,   2.]),\n",
       " array([0.  , 0.62, 1.24, 1.86, 2.48, 3.1 , 3.72, 4.34, 4.96, 5.58, 6.2 ]),\n",
       " <BarContainer object of 10 artists>)"
      ]
     },
     "execution_count": 6,
     "metadata": {},
     "output_type": "execute_result"
    },
    {
     "data": {
      "image/png": "[encoded data removed]",
      "text/plain": [
       "<Figure size 432x288 with 6 Axes>"
      ]
     },
     "metadata": {
      "needs_background": "light"
     },
     "output_type": "display_data"
    }
   ],
   "source": [
    "# Plot a histogram of each of the continous predictors. We will proceed with the assumption that each predictor follows a Gaussian distribution\n",
    "# Some of the predictors are less likely to be Gaussian (oldpeak for example), so we should proceed with cautiona and keep in mind the assumptions we made when we go to interpret our results.\n",
    "fig, ((p1, p2, p3), (p4, p5, p6)) = plt.subplots(nrows=2, ncols = 3)\n",
    "\n",
    "p1.hist(predictors['age'])\n",
    "p2.hist(predictors['restbps'])\n",
    "p3.hist(predictors['cholesterol'])\n",
    "p4.hist(predictors['thalach'])\n",
    "p5.hist(predictors['oldpeak'])\n"
   ]
  },
  {
   "cell_type": "code",
   "execution_count": 7,
   "id": "ecf2bb66-fa4c-428f-8cc3-2c2139282fc8",
   "metadata": {},
   "outputs": [],
   "source": [
    "#split data into 30% test and 70% training, using set random state for reproducibility\n",
    "\n",
    "x_train, x_test, y_train, y_test =  train_test_split(predictors,target,test_size = 0.3, random_state = 18)"
   ]
  },
  {
   "cell_type": "code",
   "execution_count": 8,
   "id": "0194fe98-2c9f-4081-b8d6-29f43fa13f5f",
   "metadata": {},
   "outputs": [
    {
     "data": {
      "text/plain": [
       "212"
      ]
     },
     "execution_count": 8,
     "metadata": {},
     "output_type": "execute_result"
    }
   ],
   "source": [
    "#number of instances in train set\n",
    "\n",
    "len(x_train)"
   ]
  },
  {
   "cell_type": "code",
   "execution_count": 9,
   "id": "4ad199fa-4228-487a-8ff8-f52477ff95c1",
   "metadata": {},
   "outputs": [
    {
     "data": {
      "text/plain": [
       "91"
      ]
     },
     "execution_count": 9,
     "metadata": {},
     "output_type": "execute_result"
    }
   ],
   "source": [
    "#number of instances in test set\n",
    "\n",
    "len(x_test)"
   ]
  },
  {
   "cell_type": "code",
   "execution_count": 10,
   "id": "bd49c41f-3c06-4c21-80df-2c8079b07815",
   "metadata": {},
   "outputs": [
    {
     "data": {
      "text/plain": [
       "GaussianNB()"
      ]
     },
     "execution_count": 10,
     "metadata": {},
     "output_type": "execute_result"
    }
   ],
   "source": [
    "#train the model using the Gaussian model probabilities\n",
    "model = GaussianNB()\n",
    "model.fit(x_train,y_train)"
   ]
  },
  {
   "cell_type": "code",
   "execution_count": 11,
   "id": "08358705-b343-4050-805e-e9f2f58aa48f",
   "metadata": {},
   "outputs": [
    {
     "data": {
      "text/html": [
       "<div>\n",
       "<style scoped>\n",
       "    .dataframe tbody tr th:only-of-type {\n",
       "        vertical-align: middle;\n",
       "    }\n",
       "\n",
       "    .dataframe tbody tr th {\n",
       "        vertical-align: top;\n",
       "    }\n",
       "\n",
       "    .dataframe thead th {\n",
       "        text-align: right;\n",
       "    }\n",
       "</style>\n",
       "<table border=\"1\" class=\"dataframe\">\n",
       "  <thead>\n",
       "    <tr style=\"text-align: right;\">\n",
       "      <th></th>\n",
       "      <th>age</th>\n",
       "      <th>sex</th>\n",
       "      <th>chestpain</th>\n",
       "      <th>restbps</th>\n",
       "      <th>cholesterol</th>\n",
       "      <th>fastingbs</th>\n",
       "      <th>restecg</th>\n",
       "      <th>thalach</th>\n",
       "      <th>exerciseang</th>\n",
       "      <th>oldpeak</th>\n",
       "      <th>slope</th>\n",
       "      <th>ca</th>\n",
       "      <th>thal</th>\n",
       "    </tr>\n",
       "  </thead>\n",
       "  <tbody>\n",
       "    <tr>\n",
       "      <th>199</th>\n",
       "      <td>59</td>\n",
       "      <td>1</td>\n",
       "      <td>1</td>\n",
       "      <td>160</td>\n",
       "      <td>273</td>\n",
       "      <td>0</td>\n",
       "      <td>2</td>\n",
       "      <td>125</td>\n",
       "      <td>0</td>\n",
       "      <td>0.0</td>\n",
       "      <td>1</td>\n",
       "      <td>0</td>\n",
       "      <td>3</td>\n",
       "    </tr>\n",
       "    <tr>\n",
       "      <th>192</th>\n",
       "      <td>43</td>\n",
       "      <td>1</td>\n",
       "      <td>4</td>\n",
       "      <td>132</td>\n",
       "      <td>247</td>\n",
       "      <td>1</td>\n",
       "      <td>2</td>\n",
       "      <td>143</td>\n",
       "      <td>1</td>\n",
       "      <td>0.1</td>\n",
       "      <td>2</td>\n",
       "      <td>2</td>\n",
       "      <td>7</td>\n",
       "    </tr>\n",
       "    <tr>\n",
       "      <th>246</th>\n",
       "      <td>58</td>\n",
       "      <td>1</td>\n",
       "      <td>4</td>\n",
       "      <td>100</td>\n",
       "      <td>234</td>\n",
       "      <td>0</td>\n",
       "      <td>0</td>\n",
       "      <td>156</td>\n",
       "      <td>0</td>\n",
       "      <td>0.1</td>\n",
       "      <td>1</td>\n",
       "      <td>1</td>\n",
       "      <td>7</td>\n",
       "    </tr>\n",
       "    <tr>\n",
       "      <th>257</th>\n",
       "      <td>76</td>\n",
       "      <td>0</td>\n",
       "      <td>3</td>\n",
       "      <td>140</td>\n",
       "      <td>197</td>\n",
       "      <td>0</td>\n",
       "      <td>1</td>\n",
       "      <td>116</td>\n",
       "      <td>0</td>\n",
       "      <td>1.1</td>\n",
       "      <td>2</td>\n",
       "      <td>0</td>\n",
       "      <td>3</td>\n",
       "    </tr>\n",
       "    <tr>\n",
       "      <th>268</th>\n",
       "      <td>40</td>\n",
       "      <td>1</td>\n",
       "      <td>4</td>\n",
       "      <td>152</td>\n",
       "      <td>223</td>\n",
       "      <td>0</td>\n",
       "      <td>0</td>\n",
       "      <td>181</td>\n",
       "      <td>0</td>\n",
       "      <td>0.0</td>\n",
       "      <td>1</td>\n",
       "      <td>0</td>\n",
       "      <td>7</td>\n",
       "    </tr>\n",
       "    <tr>\n",
       "      <th>140</th>\n",
       "      <td>59</td>\n",
       "      <td>1</td>\n",
       "      <td>2</td>\n",
       "      <td>140</td>\n",
       "      <td>221</td>\n",
       "      <td>0</td>\n",
       "      <td>0</td>\n",
       "      <td>164</td>\n",
       "      <td>1</td>\n",
       "      <td>0.0</td>\n",
       "      <td>1</td>\n",
       "      <td>0</td>\n",
       "      <td>3</td>\n",
       "    </tr>\n",
       "    <tr>\n",
       "      <th>302</th>\n",
       "      <td>38</td>\n",
       "      <td>1</td>\n",
       "      <td>3</td>\n",
       "      <td>138</td>\n",
       "      <td>175</td>\n",
       "      <td>0</td>\n",
       "      <td>0</td>\n",
       "      <td>173</td>\n",
       "      <td>0</td>\n",
       "      <td>0.0</td>\n",
       "      <td>1</td>\n",
       "      <td>1</td>\n",
       "      <td>3</td>\n",
       "    </tr>\n",
       "    <tr>\n",
       "      <th>18</th>\n",
       "      <td>48</td>\n",
       "      <td>0</td>\n",
       "      <td>3</td>\n",
       "      <td>130</td>\n",
       "      <td>275</td>\n",
       "      <td>0</td>\n",
       "      <td>0</td>\n",
       "      <td>139</td>\n",
       "      <td>0</td>\n",
       "      <td>0.2</td>\n",
       "      <td>1</td>\n",
       "      <td>0</td>\n",
       "      <td>3</td>\n",
       "    </tr>\n",
       "    <tr>\n",
       "      <th>41</th>\n",
       "      <td>40</td>\n",
       "      <td>1</td>\n",
       "      <td>1</td>\n",
       "      <td>140</td>\n",
       "      <td>199</td>\n",
       "      <td>0</td>\n",
       "      <td>0</td>\n",
       "      <td>178</td>\n",
       "      <td>1</td>\n",
       "      <td>1.4</td>\n",
       "      <td>1</td>\n",
       "      <td>0</td>\n",
       "      <td>7</td>\n",
       "    </tr>\n",
       "    <tr>\n",
       "      <th>103</th>\n",
       "      <td>71</td>\n",
       "      <td>0</td>\n",
       "      <td>3</td>\n",
       "      <td>110</td>\n",
       "      <td>265</td>\n",
       "      <td>1</td>\n",
       "      <td>2</td>\n",
       "      <td>130</td>\n",
       "      <td>0</td>\n",
       "      <td>0.0</td>\n",
       "      <td>1</td>\n",
       "      <td>1</td>\n",
       "      <td>3</td>\n",
       "    </tr>\n",
       "  </tbody>\n",
       "</table>\n",
       "</div>"
      ],
      "text/plain": [
       "     age  sex  chestpain  restbps  cholesterol  fastingbs  restecg  thalach  \\\n",
       "199   59    1          1      160          273          0        2      125   \n",
       "192   43    1          4      132          247          1        2      143   \n",
       "246   58    1          4      100          234          0        0      156   \n",
       "257   76    0          3      140          197          0        1      116   \n",
       "268   40    1          4      152          223          0        0      181   \n",
       "140   59    1          2      140          221          0        0      164   \n",
       "302   38    1          3      138          175          0        0      173   \n",
       "18    48    0          3      130          275          0        0      139   \n",
       "41    40    1          1      140          199          0        0      178   \n",
       "103   71    0          3      110          265          1        2      130   \n",
       "\n",
       "     exerciseang  oldpeak  slope  ca  thal  \n",
       "199            0      0.0      1   0     3  \n",
       "192            1      0.1      2   2     7  \n",
       "246            0      0.1      1   1     7  \n",
       "257            0      1.1      2   0     3  \n",
       "268            0      0.0      1   0     7  \n",
       "140            1      0.0      1   0     3  \n",
       "302            0      0.0      1   1     3  \n",
       "18             0      0.2      1   0     3  \n",
       "41             1      1.4      1   0     7  \n",
       "103            0      0.0      1   1     3  "
      ]
     },
     "execution_count": 11,
     "metadata": {},
     "output_type": "execute_result"
    }
   ],
   "source": [
    "#first 10 instances from the test set\n",
    "x_test[:10]"
   ]
  },
  {
   "cell_type": "code",
   "execution_count": 12,
   "id": "4bd25d7e-20fb-4ba5-9fcc-7ccc395a2da1",
   "metadata": {},
   "outputs": [
    {
     "data": {
      "text/plain": [
       "199    1\n",
       "192    1\n",
       "246    1\n",
       "257    0\n",
       "268    1\n",
       "140    0\n",
       "302    0\n",
       "18     0\n",
       "41     0\n",
       "103    0\n",
       "Name: heartdisease, dtype: int64"
      ]
     },
     "execution_count": 12,
     "metadata": {},
     "output_type": "execute_result"
    }
   ],
   "source": [
    "# actual instances of heart disease for the first 10 instances from the test set\n",
    "y_test[:10]"
   ]
  },
  {
   "cell_type": "code",
   "execution_count": 13,
   "id": "6b7f59be-c618-40c7-a8d2-42bcef46d17d",
   "metadata": {},
   "outputs": [],
   "source": [
    "#models prediction of heart disease for the first 10 instances from the test set\n",
    "model.predict(x_test[:10])\n",
    "y_pred=model.predict(x_test)"
   ]
  },
  {
   "cell_type": "code",
   "execution_count": 14,
   "id": "a468849a-be82-413f-b286-aa9fdb1c2b75",
   "metadata": {
    "tags": []
   },
   "outputs": [],
   "source": [
    "# score the accuracy of the model's predictions\n",
    "accuracy = model.score(x_test,y_test)*100"
   ]
  },
  {
   "cell_type": "code",
   "execution_count": 15,
   "id": "defd807a-c5a6-4bb3-b6f3-05bb2d8dca97",
   "metadata": {},
   "outputs": [
    {
     "name": "stdout",
     "output_type": "stream",
     "text": [
      "the accuracy of the model is 75.82417582417582%\n"
     ]
    }
   ],
   "source": [
    "#print the accuracy\n",
    "print('the accuracy of the model is {0}%'.format(accuracy))"
   ]
  },
  {
   "cell_type": "code",
   "execution_count": 16,
   "id": "f399e1bb",
   "metadata": {},
   "outputs": [
    {
     "data": {
      "text/plain": [
       "array([[38, 11],\n",
       "       [11, 31]], dtype=int64)"
      ]
     },
     "execution_count": 16,
     "metadata": {},
     "output_type": "execute_result"
    }
   ],
   "source": [
    "confusion_matrix = metrics.confusion_matrix(y_test,y_pred)\n",
    "confusion_matrix"
   ]
  },
  {
   "cell_type": "code",
   "execution_count": 17,
   "id": "7b4d227d",
   "metadata": {},
   "outputs": [
    {
     "data": {
      "text/plain": [
       "Text(0.5, 257.44, 'Predicted Class')"
      ]
     },
     "execution_count": 17,
     "metadata": {},
     "output_type": "execute_result"
    },
    {
     "data": {
      "image/png": "[encoded data removed]",
      "text/plain": [
       "<Figure size 432x288 with 2 Axes>"
      ]
     },
     "metadata": {
      "needs_background": "light"
     },
     "output_type": "display_data"
    }
   ],
   "source": [
    "#heat map of accuracy - the model makes about the same number of type 1 as type 2 errors\n",
    "class_names = [0,1]\n",
    "fig,ax = plt.subplots()\n",
    "tick_marks=np.arange(len(class_names))\n",
    "plt.xticks(tick_marks,class_names)\n",
    "plt.yticks(tick_marks,class_names)\n",
    "\n",
    "sns.heatmap(pd.DataFrame(confusion_matrix), annot = True, cmap = 'YlGnBu', fmt='g')\n",
    "ax.xaxis.set_label_position ('top')\n",
    "plt.tight_layout()\n",
    "plt.title('Results on Test Data')\n",
    "plt.ylabel('Actual Class')\n",
    "plt.xlabel('Predicted Class')"
   ]
  },
  {
   "cell_type": "code",
   "execution_count": 18,
   "id": "d25b228b",
   "metadata": {},
   "outputs": [],
   "source": [
    "#Rerun the analysis only using continuous predictors for Gaussian Naive Bayes\n",
    "#drop non-continuous predictors\n",
    "predictors_cont = predictors.drop(['sex', 'chestpain', 'fastingbs', 'restecg', 'exerciseang', 'slope', 'ca', 'thal'], axis = 'columns')"
   ]
  },
  {
   "cell_type": "code",
   "execution_count": 19,
   "id": "d441a3eb",
   "metadata": {},
   "outputs": [],
   "source": [
    "#split data into 30% test and 70% training, using set random state for reproducibility\n",
    "\n",
    "x_train_cont, x_test_cont, y_train_cont, y_test_cont =  train_test_split(predictors_cont,target,test_size = 0.3, random_state = 18)"
   ]
  },
  {
   "cell_type": "code",
   "execution_count": 20,
   "id": "c4630cb8",
   "metadata": {},
   "outputs": [
    {
     "data": {
      "text/plain": [
       "GaussianNB()"
      ]
     },
     "execution_count": 20,
     "metadata": {},
     "output_type": "execute_result"
    }
   ],
   "source": [
    "#train the model using the Gaussian model probabilities\n",
    "model_cont = GaussianNB()\n",
    "model_cont.fit(x_train_cont,y_train_cont)"
   ]
  },
  {
   "cell_type": "code",
   "execution_count": 21,
   "id": "352242dd",
   "metadata": {},
   "outputs": [
    {
     "data": {
      "text/html": [
       "<div>\n",
       "<style scoped>\n",
       "    .dataframe tbody tr th:only-of-type {\n",
       "        vertical-align: middle;\n",
       "    }\n",
       "\n",
       "    .dataframe tbody tr th {\n",
       "        vertical-align: top;\n",
       "    }\n",
       "\n",
       "    .dataframe thead th {\n",
       "        text-align: right;\n",
       "    }\n",
       "</style>\n",
       "<table border=\"1\" class=\"dataframe\">\n",
       "  <thead>\n",
       "    <tr style=\"text-align: right;\">\n",
       "      <th></th>\n",
       "      <th>age</th>\n",
       "      <th>restbps</th>\n",
       "      <th>cholesterol</th>\n",
       "      <th>thalach</th>\n",
       "      <th>oldpeak</th>\n",
       "    </tr>\n",
       "  </thead>\n",
       "  <tbody>\n",
       "    <tr>\n",
       "      <th>199</th>\n",
       "      <td>59</td>\n",
       "      <td>160</td>\n",
       "      <td>273</td>\n",
       "      <td>125</td>\n",
       "      <td>0.0</td>\n",
       "    </tr>\n",
       "    <tr>\n",
       "      <th>192</th>\n",
       "      <td>43</td>\n",
       "      <td>132</td>\n",
       "      <td>247</td>\n",
       "      <td>143</td>\n",
       "      <td>0.1</td>\n",
       "    </tr>\n",
       "    <tr>\n",
       "      <th>246</th>\n",
       "      <td>58</td>\n",
       "      <td>100</td>\n",
       "      <td>234</td>\n",
       "      <td>156</td>\n",
       "      <td>0.1</td>\n",
       "    </tr>\n",
       "    <tr>\n",
       "      <th>257</th>\n",
       "      <td>76</td>\n",
       "      <td>140</td>\n",
       "      <td>197</td>\n",
       "      <td>116</td>\n",
       "      <td>1.1</td>\n",
       "    </tr>\n",
       "    <tr>\n",
       "      <th>268</th>\n",
       "      <td>40</td>\n",
       "      <td>152</td>\n",
       "      <td>223</td>\n",
       "      <td>181</td>\n",
       "      <td>0.0</td>\n",
       "    </tr>\n",
       "    <tr>\n",
       "      <th>140</th>\n",
       "      <td>59</td>\n",
       "      <td>140</td>\n",
       "      <td>221</td>\n",
       "      <td>164</td>\n",
       "      <td>0.0</td>\n",
       "    </tr>\n",
       "    <tr>\n",
       "      <th>302</th>\n",
       "      <td>38</td>\n",
       "      <td>138</td>\n",
       "      <td>175</td>\n",
       "      <td>173</td>\n",
       "      <td>0.0</td>\n",
       "    </tr>\n",
       "    <tr>\n",
       "      <th>18</th>\n",
       "      <td>48</td>\n",
       "      <td>130</td>\n",
       "      <td>275</td>\n",
       "      <td>139</td>\n",
       "      <td>0.2</td>\n",
       "    </tr>\n",
       "    <tr>\n",
       "      <th>41</th>\n",
       "      <td>40</td>\n",
       "      <td>140</td>\n",
       "      <td>199</td>\n",
       "      <td>178</td>\n",
       "      <td>1.4</td>\n",
       "    </tr>\n",
       "    <tr>\n",
       "      <th>103</th>\n",
       "      <td>71</td>\n",
       "      <td>110</td>\n",
       "      <td>265</td>\n",
       "      <td>130</td>\n",
       "      <td>0.0</td>\n",
       "    </tr>\n",
       "  </tbody>\n",
       "</table>\n",
       "</div>"
      ],
      "text/plain": [
       "     age  restbps  cholesterol  thalach  oldpeak\n",
       "199   59      160          273      125      0.0\n",
       "192   43      132          247      143      0.1\n",
       "246   58      100          234      156      0.1\n",
       "257   76      140          197      116      1.1\n",
       "268   40      152          223      181      0.0\n",
       "140   59      140          221      164      0.0\n",
       "302   38      138          175      173      0.0\n",
       "18    48      130          275      139      0.2\n",
       "41    40      140          199      178      1.4\n",
       "103   71      110          265      130      0.0"
      ]
     },
     "execution_count": 21,
     "metadata": {},
     "output_type": "execute_result"
    }
   ],
   "source": [
    "#first 10 instances from the test set\n",
    "x_test_cont[:10]"
   ]
  },
  {
   "cell_type": "code",
   "execution_count": 22,
   "id": "85f08e8b",
   "metadata": {},
   "outputs": [
    {
     "data": {
      "text/plain": [
       "199    1\n",
       "192    1\n",
       "246    1\n",
       "257    0\n",
       "268    1\n",
       "140    0\n",
       "302    0\n",
       "18     0\n",
       "41     0\n",
       "103    0\n",
       "Name: heartdisease, dtype: int64"
      ]
     },
     "execution_count": 22,
     "metadata": {},
     "output_type": "execute_result"
    }
   ],
   "source": [
    "# actual instances of heart disease for the first 10 instances from the test set\n",
    "y_test_cont[:10]"
   ]
  },
  {
   "cell_type": "code",
   "execution_count": 23,
   "id": "aebef416",
   "metadata": {},
   "outputs": [],
   "source": [
    "#models prediction of heart disease for the first 10 instances from the test set\n",
    "model_cont.predict(x_test_cont[:10])\n",
    "y_pred=model_cont.predict(x_test_cont)"
   ]
  },
  {
   "cell_type": "code",
   "execution_count": 24,
   "id": "7f5dc3f6",
   "metadata": {
    "tags": []
   },
   "outputs": [],
   "source": [
    "# score the accuracy of the model's predictions\n",
    "accuracy_cont = model_cont.score(x_test_cont,y_test_cont)*100"
   ]
  },
  {
   "cell_type": "code",
   "execution_count": 25,
   "id": "6a380c53",
   "metadata": {},
   "outputs": [
    {
     "name": "stdout",
     "output_type": "stream",
     "text": [
      "the accuracy of the model with only the five continuous predictors is 63.73626373626373%\n"
     ]
    }
   ],
   "source": [
    "#print the accuracy\n",
    "print('the accuracy of the model with only the five continuous predictors is {0}%'.format(accuracy_cont))"
   ]
  },
  {
   "cell_type": "code",
   "execution_count": 26,
   "id": "77199643",
   "metadata": {},
   "outputs": [],
   "source": [
    "#Rerun the analysis only using continuous predictors for Multinomial Naive Bayes\n",
    "#drop non-discrete predictors\n",
    "predictors_disc = predictors.drop(['age', 'restbps', 'cholesterol', 'thalach', 'oldpeak'], axis = 'columns')\n"
   ]
  },
  {
   "cell_type": "code",
   "execution_count": 27,
   "id": "8d7ed210",
   "metadata": {},
   "outputs": [],
   "source": [
    "#split data into 30% test and 70% training, using set random state for reproducibility\n",
    "\n",
    "x_train_disc, x_test_disc, y_train_disc, y_test_disc =  train_test_split(predictors_disc,target,test_size = 0.3, random_state = 18)"
   ]
  },
  {
   "cell_type": "code",
   "execution_count": 28,
   "id": "4befbb75",
   "metadata": {},
   "outputs": [
    {
     "data": {
      "text/plain": [
       "199    1\n",
       "192    1\n",
       "246    1\n",
       "257    0\n",
       "268    1\n",
       "140    0\n",
       "302    0\n",
       "18     0\n",
       "41     0\n",
       "103    0\n",
       "Name: heartdisease, dtype: int64"
      ]
     },
     "execution_count": 28,
     "metadata": {},
     "output_type": "execute_result"
    }
   ],
   "source": [
    "# actual instances of heart disease for the first 10 instances from the test set\n",
    "y_test_disc[:10]"
   ]
  },
  {
   "cell_type": "code",
   "execution_count": 29,
   "id": "50c68a47",
   "metadata": {},
   "outputs": [
    {
     "data": {
      "text/plain": [
       "BernoulliNB()"
      ]
     },
     "execution_count": 29,
     "metadata": {},
     "output_type": "execute_result"
    }
   ],
   "source": [
    "#train the model using the Multinomial model probabilities\n",
    "model_disc = BernoulliNB()\n",
    "model_disc.fit(x_train_disc, y_train_disc)"
   ]
  },
  {
   "cell_type": "code",
   "execution_count": 30,
   "id": "e7eeca3c",
   "metadata": {},
   "outputs": [
    {
     "data": {
      "text/html": [
       "<div>\n",
       "<style scoped>\n",
       "    .dataframe tbody tr th:only-of-type {\n",
       "        vertical-align: middle;\n",
       "    }\n",
       "\n",
       "    .dataframe tbody tr th {\n",
       "        vertical-align: top;\n",
       "    }\n",
       "\n",
       "    .dataframe thead th {\n",
       "        text-align: right;\n",
       "    }\n",
       "</style>\n",
       "<table border=\"1\" class=\"dataframe\">\n",
       "  <thead>\n",
       "    <tr style=\"text-align: right;\">\n",
       "      <th></th>\n",
       "      <th>sex</th>\n",
       "      <th>chestpain</th>\n",
       "      <th>fastingbs</th>\n",
       "      <th>restecg</th>\n",
       "      <th>exerciseang</th>\n",
       "      <th>slope</th>\n",
       "      <th>ca</th>\n",
       "      <th>thal</th>\n",
       "    </tr>\n",
       "  </thead>\n",
       "  <tbody>\n",
       "    <tr>\n",
       "      <th>199</th>\n",
       "      <td>1</td>\n",
       "      <td>1</td>\n",
       "      <td>0</td>\n",
       "      <td>2</td>\n",
       "      <td>0</td>\n",
       "      <td>1</td>\n",
       "      <td>0</td>\n",
       "      <td>3</td>\n",
       "    </tr>\n",
       "    <tr>\n",
       "      <th>192</th>\n",
       "      <td>1</td>\n",
       "      <td>4</td>\n",
       "      <td>1</td>\n",
       "      <td>2</td>\n",
       "      <td>1</td>\n",
       "      <td>2</td>\n",
       "      <td>2</td>\n",
       "      <td>7</td>\n",
       "    </tr>\n",
       "    <tr>\n",
       "      <th>246</th>\n",
       "      <td>1</td>\n",
       "      <td>4</td>\n",
       "      <td>0</td>\n",
       "      <td>0</td>\n",
       "      <td>0</td>\n",
       "      <td>1</td>\n",
       "      <td>1</td>\n",
       "      <td>7</td>\n",
       "    </tr>\n",
       "    <tr>\n",
       "      <th>257</th>\n",
       "      <td>0</td>\n",
       "      <td>3</td>\n",
       "      <td>0</td>\n",
       "      <td>1</td>\n",
       "      <td>0</td>\n",
       "      <td>2</td>\n",
       "      <td>0</td>\n",
       "      <td>3</td>\n",
       "    </tr>\n",
       "    <tr>\n",
       "      <th>268</th>\n",
       "      <td>1</td>\n",
       "      <td>4</td>\n",
       "      <td>0</td>\n",
       "      <td>0</td>\n",
       "      <td>0</td>\n",
       "      <td>1</td>\n",
       "      <td>0</td>\n",
       "      <td>7</td>\n",
       "    </tr>\n",
       "    <tr>\n",
       "      <th>140</th>\n",
       "      <td>1</td>\n",
       "      <td>2</td>\n",
       "      <td>0</td>\n",
       "      <td>0</td>\n",
       "      <td>1</td>\n",
       "      <td>1</td>\n",
       "      <td>0</td>\n",
       "      <td>3</td>\n",
       "    </tr>\n",
       "    <tr>\n",
       "      <th>302</th>\n",
       "      <td>1</td>\n",
       "      <td>3</td>\n",
       "      <td>0</td>\n",
       "      <td>0</td>\n",
       "      <td>0</td>\n",
       "      <td>1</td>\n",
       "      <td>1</td>\n",
       "      <td>3</td>\n",
       "    </tr>\n",
       "    <tr>\n",
       "      <th>18</th>\n",
       "      <td>0</td>\n",
       "      <td>3</td>\n",
       "      <td>0</td>\n",
       "      <td>0</td>\n",
       "      <td>0</td>\n",
       "      <td>1</td>\n",
       "      <td>0</td>\n",
       "      <td>3</td>\n",
       "    </tr>\n",
       "    <tr>\n",
       "      <th>41</th>\n",
       "      <td>1</td>\n",
       "      <td>1</td>\n",
       "      <td>0</td>\n",
       "      <td>0</td>\n",
       "      <td>1</td>\n",
       "      <td>1</td>\n",
       "      <td>0</td>\n",
       "      <td>7</td>\n",
       "    </tr>\n",
       "    <tr>\n",
       "      <th>103</th>\n",
       "      <td>0</td>\n",
       "      <td>3</td>\n",
       "      <td>1</td>\n",
       "      <td>2</td>\n",
       "      <td>0</td>\n",
       "      <td>1</td>\n",
       "      <td>1</td>\n",
       "      <td>3</td>\n",
       "    </tr>\n",
       "  </tbody>\n",
       "</table>\n",
       "</div>"
      ],
      "text/plain": [
       "     sex  chestpain  fastingbs  restecg  exerciseang  slope  ca  thal\n",
       "199    1          1          0        2            0      1   0     3\n",
       "192    1          4          1        2            1      2   2     7\n",
       "246    1          4          0        0            0      1   1     7\n",
       "257    0          3          0        1            0      2   0     3\n",
       "268    1          4          0        0            0      1   0     7\n",
       "140    1          2          0        0            1      1   0     3\n",
       "302    1          3          0        0            0      1   1     3\n",
       "18     0          3          0        0            0      1   0     3\n",
       "41     1          1          0        0            1      1   0     7\n",
       "103    0          3          1        2            0      1   1     3"
      ]
     },
     "execution_count": 30,
     "metadata": {},
     "output_type": "execute_result"
    }
   ],
   "source": [
    "#first 10 instances from the test set\n",
    "x_test_disc[:10]"
   ]
  },
  {
   "cell_type": "code",
   "execution_count": 31,
   "id": "c920d0fb",
   "metadata": {},
   "outputs": [],
   "source": [
    "#models prediction of heart disease for the first 10 instances from the test set\n",
    "model_disc.predict(x_test_disc[:10])\n",
    "y_pred=model_disc.predict(x_test_disc)"
   ]
  },
  {
   "cell_type": "code",
   "execution_count": 32,
   "id": "bebb4f12",
   "metadata": {
    "tags": []
   },
   "outputs": [],
   "source": [
    "# score the accuracy of the model's predictions\n",
    "accuracy_disc = model_disc.score(x_test_disc, y_test_disc)*100"
   ]
  },
  {
   "cell_type": "code",
   "execution_count": 33,
   "id": "7391811b",
   "metadata": {},
   "outputs": [
    {
     "name": "stdout",
     "output_type": "stream",
     "text": [
      "the accuracy of the model with only the five continuous predictors is 69.23076923076923%\n"
     ]
    }
   ],
   "source": [
    "#print the accuracy\n",
    "print('the accuracy of the model with only the five continuous predictors is {0}%'.format(accuracy_disc))"
   ]
  },
  {
   "cell_type": "code",
   "execution_count": 34,
   "id": "8c5201bd",
   "metadata": {},
   "outputs": [],
   "source": [
    "#calculate the probability for each class for continuous model and discrete model\n",
    "prob_cont = model_disc.predict_proba(x_test_disc)\n",
    "prob_disc = model_cont.predict_proba(x_test_cont)\n",
    "\n",
    "#multiply probabilities to find classification for combined model\n",
    "prob_total = prob_cont * prob_disc"
   ]
  },
  {
   "cell_type": "code",
   "execution_count": 35,
   "id": "86566f5c",
   "metadata": {},
   "outputs": [
    {
     "name": "stdout",
     "output_type": "stream",
     "text": [
      "    Predicted  Actual\n",
      "0           1       1\n",
      "1           1       1\n",
      "2           0       1\n",
      "3           0       0\n",
      "4           0       1\n",
      "..        ...     ...\n",
      "86          1       0\n",
      "87          0       0\n",
      "88          0       1\n",
      "89          0       0\n",
      "90          1       1\n",
      "\n",
      "[91 rows x 2 columns]\n"
     ]
    }
   ],
   "source": [
    "#determine if the model will classify each test value as 0 or 1 (by figuring out if p(0) < p(1))\n",
    "classification = list()\n",
    "for i in range(len(prob_total)):\n",
    "    classification.append(int(prob_total[i][0] < prob_total[i][1]))\n",
    "\n",
    "#convert y_test to a list and make 1 dataframe with predicted and actual data\n",
    "y_list = y_test.tolist()\n",
    "df2 = pd.DataFrame(list(zip(classification, y_list)), columns = ['Predicted', 'Actual'])\n",
    "print(df2)"
   ]
  },
  {
   "cell_type": "code",
   "execution_count": 36,
   "id": "24ad88bc",
   "metadata": {},
   "outputs": [
    {
     "name": "stdout",
     "output_type": "stream",
     "text": [
      "Predicted   0   1\n",
      "Actual           \n",
      "0          38  11\n",
      "1          13  29\n"
     ]
    }
   ],
   "source": [
    "#create a confusion matrix for the mixed model\n",
    "confusion_matrix = pd.crosstab(df2['Actual'], df2['Predicted'], rownames=['Actual'], colnames=['Predicted'])\n",
    "print (confusion_matrix)"
   ]
  },
  {
   "cell_type": "markdown",
   "id": "540879f2",
   "metadata": {},
   "source": [
    "## AI in the fabrics of society\n",
    "### The privacy problem and k-anonymity\n",
    "How do we fix the problem of de-anonymization is important for hospital database system to protect privacy. Sometimes the unique records in the database can easily find the personnel information even his or her personnel information such as name or address are not shown in the database. One example in this database:"
   ]
  },
  {
   "cell_type": "code",
   "execution_count": 37,
   "id": "6c3b7ec0",
   "metadata": {},
   "outputs": [
    {
     "data": {
      "text/plain": [
       "array([29, 34, 35, 37, 38, 39, 40, 41, 42, 43, 44, 45, 46, 47, 48, 49, 50,\n",
       "       51, 52, 53, 54, 55, 56, 57, 58, 59, 60, 61, 62, 63, 64, 65, 66, 67,\n",
       "       68, 69, 70, 71, 74, 76, 77], dtype=int64)"
      ]
     },
     "execution_count": 37,
     "metadata": {},
     "output_type": "execute_result"
    }
   ],
   "source": [
    "np.unique(df.age)"
   ]
  },
  {
   "cell_type": "code",
   "execution_count": 38,
   "id": "23148d89",
   "metadata": {
    "scrolled": true
   },
   "outputs": [
    {
     "data": {
      "text/html": [
       "<div>\n",
       "<style scoped>\n",
       "    .dataframe tbody tr th:only-of-type {\n",
       "        vertical-align: middle;\n",
       "    }\n",
       "\n",
       "    .dataframe tbody tr th {\n",
       "        vertical-align: top;\n",
       "    }\n",
       "\n",
       "    .dataframe thead th {\n",
       "        text-align: right;\n",
       "    }\n",
       "</style>\n",
       "<table border=\"1\" class=\"dataframe\">\n",
       "  <thead>\n",
       "    <tr style=\"text-align: right;\">\n",
       "      <th></th>\n",
       "      <th>age</th>\n",
       "      <th>sex</th>\n",
       "      <th>chestpain</th>\n",
       "      <th>restbps</th>\n",
       "      <th>cholesterol</th>\n",
       "      <th>fastingbs</th>\n",
       "      <th>restecg</th>\n",
       "      <th>thalach</th>\n",
       "      <th>exerciseang</th>\n",
       "      <th>oldpeak</th>\n",
       "      <th>slope</th>\n",
       "      <th>ca</th>\n",
       "      <th>thal</th>\n",
       "      <th>heartdisease</th>\n",
       "    </tr>\n",
       "  </thead>\n",
       "  <tbody>\n",
       "    <tr>\n",
       "      <th>132</th>\n",
       "      <td>29</td>\n",
       "      <td>1</td>\n",
       "      <td>2</td>\n",
       "      <td>130</td>\n",
       "      <td>204</td>\n",
       "      <td>0</td>\n",
       "      <td>2</td>\n",
       "      <td>202</td>\n",
       "      <td>0</td>\n",
       "      <td>0.0</td>\n",
       "      <td>1</td>\n",
       "      <td>0</td>\n",
       "      <td>3</td>\n",
       "      <td>0</td>\n",
       "    </tr>\n",
       "  </tbody>\n",
       "</table>\n",
       "</div>"
      ],
      "text/plain": [
       "     age  sex  chestpain  restbps  cholesterol  fastingbs  restecg  thalach  \\\n",
       "132   29    1          2      130          204          0        2      202   \n",
       "\n",
       "     exerciseang  oldpeak  slope  ca  thal  heartdisease  \n",
       "132            0      0.0      1   0     3             0  "
      ]
     },
     "execution_count": 38,
     "metadata": {},
     "output_type": "execute_result"
    }
   ],
   "source": [
    "unique_record = df.loc[df.age ==29]\n",
    "unique_record"
   ]
  },
  {
   "cell_type": "markdown",
   "id": "b0f8fff3",
   "metadata": {},
   "source": [
    "As you can see above, even though the detail personnel information is not shown, we can find a unique record who is 29 years old and is a male. Imagine if you know that your neighborhood called Able is 29 years old and is a male, and you know that he went to this hospital, then you can easily conclude that this guy has a large probability to be Able. With some other information in other datasets, the personnel information can be easily acquired, which is a horrible threat to people's privacy.\n",
    "\n",
    "Read the ethical book and think about the problem and related solution.\n",
    "\n",
    "Reading: *Ethical Algorithm*: Chapter 1, Algorithmic Privacy, A Bad Solution, (Page 26-31)"
   ]
  }
 ],
 "metadata": {
  "kernelspec": {
   "display_name": "Python 3.8.8 ('base')",
   "language": "python",
   "name": "python3"
  },
  "language_info": {
   "codemirror_mode": {
    "name": "ipython",
    "version": 3
   },
   "file_extension": ".py",
   "mimetype": "text/x-python",
   "name": "python",
   "nbconvert_exporter": "python",
   "pygments_lexer": "ipython3",
   "version": "3.8.8"
  },
  "vscode": {
   "interpreter": {
    "hash": "79c001c24d6b3429b10761400cd0749db15c62464f7b0d14666d0f8eaa0de2f1"
   }
  }
 },
 "nbformat": 4,
 "nbformat_minor": 5
}
