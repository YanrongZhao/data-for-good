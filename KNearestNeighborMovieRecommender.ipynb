{
 "cells": [
  {
   "cell_type": "markdown",
   "id": "e6fdea94",
   "metadata": {},
   "source": [
    "# What to watch next?\n",
    "\n",
    "## Background reading:\n",
    "**An Introduction to Statistical Learning Book Sections**: 2.2 Assessing Model Accuracy (includes: 2.2.1 Measuring the Quality of fit,  2.2.2 The Bias-Variance Tradeoff, 2.2.3 The classification setting (K-Nearest Neighbors)) 12.3 Missing Values and Matrix Completion (Recommneder Systems pp. 514-516) \n",
    "\n",
    "**The Ethical Algorithm Book**, page 22 to 26 (ANONYMIZED DATA ISN'T)\n",
    "\n",
    "## Dataset:\n",
    "The example on github uses the movie rating database from \n",
    "https://grouplens.org/datasets/movielens/ \n",
    "\n",
    "\n",
    "2 Datasets: Movies.csv and Ratings.csv  \n",
    "\n",
    "From Movies we extract the columns with attributes:\n",
    "1. Movie ID\n",
    "2. Title\n",
    "\n",
    "From Ratings we extract the columns:\n",
    "1. Movie ID\n",
    "2. User ID\n",
    "3. Rating\n",
    "The class being used for the recommendation is the column “rating” \n",
    "\n",
    "**Classes**: Average Rating by all users\n",
    "\n",
    "\n",
    "### In this lesson:\n",
    "\n",
    "#### K-Nearest Neighbors Algorithm\t\n",
    "#### Inequality and Unpredictability of Success (The Music Lab Experiment)\t\n",
    "#### The Netflix Prize\t\n",
    "\n",
    "\n",
    "## Essence of Data\n",
    "\n",
    "### K-Nearest Neighbors Algorithm\n"
   ]
  },
  {
   "cell_type": "markdown",
   "id": "efa0ef81",
   "metadata": {},
   "source": [
    "### What is K Nearest Neighbor?\n",
    "K Nearest Neighbor is a supervised machine learning algorithm that can be used for classification and regression.\n",
    "\n",
    "KNN is ideal for data mining because it does not perform any calculations with the training data, it just stores the data. Once a query is performed on the dataset, the algorithm will build the appropriate model.\n",
    "\n",
    "**Examples of application**: stock market prediction, bank loan approval, pattern recognition, and online shopping ad recommendations, facility location\n",
    "\n",
    "**How does K Nearest Neighbors work?**\n",
    "\n",
    "![](./fig/KNN/fig1.png)\n",
    "\n",
    "KNN uses a distance based function (ie. euclidean) to calculate the similarity between the test instance and the existing points on the model graph.\n",
    "KNN essentially has a voting mechanism to determine the class that a data point belongs to. The class with the most votes wins and the point is assigned to that class.\n",
    "\n",
    "KNN doesn't make assumptions about the underlying statistical distribution that the data may have.\n",
    "Ex: In the movie recommender algorithm cosine similarity is being used as the distance function\n",
    "\n",
    "![](./fig/KNN/fig2.png)\n",
    "\n",
    "**Two types of problems:**\n",
    "**Classification-** The input instances (from the training data) are classified based on their discrete class labels (whatever parameter we are trying to predict). \n",
    "\n",
    "**Regression-** The input instances are used to predict a non-discrete number (such as predicting a person’s weight given their height, age, and gender)\n",
    "\n",
    "**What assumptions are made?**\n",
    "The algorithm assumes that data points clustered near each other are similar and therefore have the same class.\n",
    "\n",
    "**What are the issues that these assumptions can cause?**\n",
    "The accuracy depends on the quality of the data or the test instance data will not be accurately classified.\n",
    "\n",
    "**Pros of K-Nearest Neighbors:**\n",
    "- It can handle multi-class data\n",
    "- It can flexibly handle different distance functions\n",
    "\n",
    "**What is the difference between K-Nearest Neighbors and K-Means**\n",
    "KNN is a supervised algorithm used for classification or regression based on feature similarity.\n",
    "\n",
    "K-Means is an unsupervised algorithm used for clustering of data points with no prelabeled class. It divides the data points into “similar” groups.\n",
    "\n",
    "**Example applications:** Delivery route optimization, ride share app analysis to identify traffic patterns throughout the day, Automatic clustering of IT alerts for prioritization\n",
    "\n",
    "![](./fig/KNN/fig3.png)\n",
    "\n",
    "![](./fig/KNN/fig4.png)\n",
    "\n",
    "**Supervised learning:** The algorithm is trained using data with class labels.\n",
    "Types of problems: classification and regression\n",
    "\n",
    "**Unsupervised learning:** The algorithm is trained using data without class labels.\n",
    "Types of problems: clustering and association\n",
    "\n",
    "**Reinforcement learning:** The algorithm must make the decision with the best future knowledge outcome. The model learns by getting feedback on the past decision outcomes.\n",
    "Types of problems: Exploitation or exploration\n",
    "\n",
    "**The exploitation-exploration tradeoff:**\n",
    "Article By professional data engineer: https://ekababisong.org/the-exploration-exploitation-trade-off/ \n",
    "The objective is to maximize the cumulative reward. The agent can either exploit the known optimal action (given what is already known) or explore the unknown and potentially be rewarded with new information.\n",
    "\n",
    "**Exploitation:** To choose the action that seems optimal, given the information already known.\n",
    "Example in movie database: Should we recommend more popular movies to users? Netflix does this by recommending their top 10 trending shows/movies by country\n",
    "\n",
    "**Exploration:** To make the less optimal decision, given the assumption that the information already known is inaccurate and learning more information could improve future decision making outcomes.\n",
    "Example in movie database: Should we take a risk and recommend less popular movies to users in order to get more ratings for them and learn more?\n",
    "\n",
    "In the movie industry a movie being “popular” could impact box office performance and award show consideration. Exploration could be advantageous to get more reviews for less popular movies, however this is a risk because we do not have as much information (number of ratings) to base this decision on. A streaming service such as Netflix may use exploitation within recommender systems to recommend movies they have produced to influence the popularity. ***add more to tie it to society***\n",
    "\n",
    "Article about Netflix algorithm and personalized recommender systems: \n",
    "https://www.wired.co.uk/article/how-do-netflixs-algorithms-work-machine-learning-helps-to-predict-what-viewers-will-like \n",
    "\n",
    "**Related Concepts - Decision Boundaries, model fit, model flexibility, variance and bias**\n",
    "\n",
    "![Figure from textbook page 41](./fig/KNN/fig5.png)\n",
    "\n",
    "**Variance** is the amount that the model estimate f would change if different training data was used.\n",
    "**Bias** is the error that is introduced to the model from estimating a real life problem.\n",
    "\n",
    "![Figure from textbook page 41](./fig/KNN/fig6.png)\n",
    "\n",
    "**Decision boundary** indicates where the cutoff for one class starts and another begins. \n",
    "\n",
    "**Model flexibility** is the model’s ability to increase the degrees of freedom available to the model in order to fit the training data.\n",
    "\n",
    "A **flexible model** will have a greater number of estimation parameters and have a more non-linear decision boundary.\n",
    "\n",
    "An **inflexible model** will have a lower number of estimation parameters and have a more linear decision boundary\n",
    "\n",
    "The smaller that K is, the more flexible (non linear) the decision boundary line will be. This corresponds to a classification model with low bias but very high variance. The model is finding patterns in the data that may or may not exist since K is so low.\n",
    "\n",
    "As a model’s flexibility decreases, variance will decrease and bias will increase. In order to have a model with the best fit we want to have low bias and low variance so the K we choose will need to be picked carefully. \n"
   ]
  },
  {
   "cell_type": "markdown",
   "id": "c2150421",
   "metadata": {},
   "source": [
    "### Code to Analyze"
   ]
  },
  {
   "cell_type": "code",
   "execution_count": 2,
   "id": "3e2fad2a-6ebd-4e08-b81e-3f7cb06d30e3",
   "metadata": {
    "tags": []
   },
   "outputs": [
    {
     "name": "stderr",
     "output_type": "stream",
     "text": [
      "/Users/marieskoczylas/Library/Caches/pypoetry/virtualenvs/data-for-good-I43Vq_4d-py3.9/lib/python3.10/site-packages/fuzzywuzzy/fuzz.py:11: UserWarning: Using slow pure-python SequenceMatcher. Install python-Levenshtein to remove this warning\n",
      "  warnings.warn('Using slow pure-python SequenceMatcher. Install python-Levenshtein to remove this warning')\n"
     ]
    }
   ],
   "source": [
    "import pandas as pd\n",
    "import math\n",
    "import random\n",
    "import numpy as np\n",
    "from sklearn.neighbors import NearestNeighbors\n",
    "from scipy.sparse import csr_matrix\n",
    "#fuzzy needs to be added to the library\n",
    "#open terminal and paste: conda install -c conda-forge fuzzywuzzy\n",
    "from fuzzywuzzy import process\n",
    "import seaborn as sns\n",
    "import matplotlib.pyplot as plt\n",
    "plt.style.use('ggplot')"
   ]
  },
  {
   "cell_type": "code",
   "execution_count": 3,
   "id": "65f1e6ed-c6ec-4561-b485-33a6eebbae2d",
   "metadata": {},
   "outputs": [],
   "source": [
    "#Load the movies and rating datasets\n",
    "movies = 'movies.csv'\n",
    "ratings = 'ratings.csv'\n",
    "df_movies = pd.read_csv(movies, usecols = ['movieId','title'], dtype = {'movieId': 'int32', 'title':'str'})\n",
    "df_ratings = pd.read_csv(ratings, usecols = ['userId','movieId','rating'],dtype={'userId':'int32','movieId':'int32','rating':'float32'})"
   ]
  },
  {
   "cell_type": "code",
   "execution_count": 4,
   "id": "33916e7f-4490-4e67-bf6e-1a5a4ee3a810",
   "metadata": {},
   "outputs": [
    {
     "data": {
      "text/html": [
       "<div>\n",
       "<style scoped>\n",
       "    .dataframe tbody tr th:only-of-type {\n",
       "        vertical-align: middle;\n",
       "    }\n",
       "\n",
       "    .dataframe tbody tr th {\n",
       "        vertical-align: top;\n",
       "    }\n",
       "\n",
       "    .dataframe thead th {\n",
       "        text-align: right;\n",
       "    }\n",
       "</style>\n",
       "<table border=\"1\" class=\"dataframe\">\n",
       "  <thead>\n",
       "    <tr style=\"text-align: right;\">\n",
       "      <th></th>\n",
       "      <th>userId</th>\n",
       "      <th>movieId</th>\n",
       "      <th>rating</th>\n",
       "    </tr>\n",
       "  </thead>\n",
       "  <tbody>\n",
       "    <tr>\n",
       "      <th>count</th>\n",
       "      <td>100836.000000</td>\n",
       "      <td>100836.000000</td>\n",
       "      <td>100836.000000</td>\n",
       "    </tr>\n",
       "    <tr>\n",
       "      <th>mean</th>\n",
       "      <td>326.127564</td>\n",
       "      <td>19435.295718</td>\n",
       "      <td>3.501557</td>\n",
       "    </tr>\n",
       "    <tr>\n",
       "      <th>std</th>\n",
       "      <td>182.618491</td>\n",
       "      <td>35530.987199</td>\n",
       "      <td>1.042529</td>\n",
       "    </tr>\n",
       "    <tr>\n",
       "      <th>min</th>\n",
       "      <td>1.000000</td>\n",
       "      <td>1.000000</td>\n",
       "      <td>0.500000</td>\n",
       "    </tr>\n",
       "    <tr>\n",
       "      <th>25%</th>\n",
       "      <td>177.000000</td>\n",
       "      <td>1199.000000</td>\n",
       "      <td>3.000000</td>\n",
       "    </tr>\n",
       "    <tr>\n",
       "      <th>50%</th>\n",
       "      <td>325.000000</td>\n",
       "      <td>2991.000000</td>\n",
       "      <td>3.500000</td>\n",
       "    </tr>\n",
       "    <tr>\n",
       "      <th>75%</th>\n",
       "      <td>477.000000</td>\n",
       "      <td>8122.000000</td>\n",
       "      <td>4.000000</td>\n",
       "    </tr>\n",
       "    <tr>\n",
       "      <th>max</th>\n",
       "      <td>610.000000</td>\n",
       "      <td>193609.000000</td>\n",
       "      <td>5.000000</td>\n",
       "    </tr>\n",
       "  </tbody>\n",
       "</table>\n",
       "</div>"
      ],
      "text/plain": [
       "              userId        movieId         rating\n",
       "count  100836.000000  100836.000000  100836.000000\n",
       "mean      326.127564   19435.295718       3.501557\n",
       "std       182.618491   35530.987199       1.042529\n",
       "min         1.000000       1.000000       0.500000\n",
       "25%       177.000000    1199.000000       3.000000\n",
       "50%       325.000000    2991.000000       3.500000\n",
       "75%       477.000000    8122.000000       4.000000\n",
       "max       610.000000  193609.000000       5.000000"
      ]
     },
     "execution_count": 4,
     "metadata": {},
     "output_type": "execute_result"
    }
   ],
   "source": [
    "#check descriptive statistics of the movie ratings\n",
    "df_ratings.describe()"
   ]
  },
  {
   "cell_type": "code",
   "execution_count": 5,
   "id": "31a190cc-1868-4ac4-bf48-4e918f528767",
   "metadata": {},
   "outputs": [
    {
     "data": {
      "text/plain": [
       "userId     0\n",
       "movieId    0\n",
       "rating     0\n",
       "dtype: int64"
      ]
     },
     "execution_count": 5,
     "metadata": {},
     "output_type": "execute_result"
    }
   ],
   "source": [
    "#checking both datasets for null values\n",
    "df_movies.isna().sum()\n",
    "df_ratings.isna().sum()"
   ]
  },
  {
   "cell_type": "code",
   "execution_count": 6,
   "id": "6b6a4d8d-f9d8-4e03-b137-d98e2d10a81c",
   "metadata": {},
   "outputs": [
    {
     "data": {
      "text/html": [
       "<div>\n",
       "<style scoped>\n",
       "    .dataframe tbody tr th:only-of-type {\n",
       "        vertical-align: middle;\n",
       "    }\n",
       "\n",
       "    .dataframe tbody tr th {\n",
       "        vertical-align: top;\n",
       "    }\n",
       "\n",
       "    .dataframe thead th {\n",
       "        text-align: right;\n",
       "    }\n",
       "</style>\n",
       "<table border=\"1\" class=\"dataframe\">\n",
       "  <thead>\n",
       "    <tr style=\"text-align: right;\">\n",
       "      <th></th>\n",
       "      <th>movieId</th>\n",
       "      <th>title</th>\n",
       "    </tr>\n",
       "  </thead>\n",
       "  <tbody>\n",
       "    <tr>\n",
       "      <th>0</th>\n",
       "      <td>1</td>\n",
       "      <td>Toy Story (1995)</td>\n",
       "    </tr>\n",
       "    <tr>\n",
       "      <th>1</th>\n",
       "      <td>2</td>\n",
       "      <td>Jumanji (1995)</td>\n",
       "    </tr>\n",
       "    <tr>\n",
       "      <th>2</th>\n",
       "      <td>3</td>\n",
       "      <td>Grumpier Old Men (1995)</td>\n",
       "    </tr>\n",
       "    <tr>\n",
       "      <th>3</th>\n",
       "      <td>4</td>\n",
       "      <td>Waiting to Exhale (1995)</td>\n",
       "    </tr>\n",
       "    <tr>\n",
       "      <th>4</th>\n",
       "      <td>5</td>\n",
       "      <td>Father of the Bride Part II (1995)</td>\n",
       "    </tr>\n",
       "  </tbody>\n",
       "</table>\n",
       "</div>"
      ],
      "text/plain": [
       "   movieId                               title\n",
       "0        1                    Toy Story (1995)\n",
       "1        2                      Jumanji (1995)\n",
       "2        3             Grumpier Old Men (1995)\n",
       "3        4            Waiting to Exhale (1995)\n",
       "4        5  Father of the Bride Part II (1995)"
      ]
     },
     "execution_count": 6,
     "metadata": {},
     "output_type": "execute_result"
    }
   ],
   "source": [
    "#check movie title dataset\n",
    "df_movies.head()"
   ]
  },
  {
   "cell_type": "code",
   "execution_count": 7,
   "id": "1c07d6e5-7fdd-41f6-9dfb-6aa89f6b7591",
   "metadata": {},
   "outputs": [
    {
     "data": {
      "text/html": [
       "<div>\n",
       "<style scoped>\n",
       "    .dataframe tbody tr th:only-of-type {\n",
       "        vertical-align: middle;\n",
       "    }\n",
       "\n",
       "    .dataframe tbody tr th {\n",
       "        vertical-align: top;\n",
       "    }\n",
       "\n",
       "    .dataframe thead th {\n",
       "        text-align: right;\n",
       "    }\n",
       "</style>\n",
       "<table border=\"1\" class=\"dataframe\">\n",
       "  <thead>\n",
       "    <tr style=\"text-align: right;\">\n",
       "      <th></th>\n",
       "      <th>userId</th>\n",
       "      <th>movieId</th>\n",
       "      <th>rating</th>\n",
       "    </tr>\n",
       "  </thead>\n",
       "  <tbody>\n",
       "    <tr>\n",
       "      <th>0</th>\n",
       "      <td>1</td>\n",
       "      <td>1</td>\n",
       "      <td>4.0</td>\n",
       "    </tr>\n",
       "    <tr>\n",
       "      <th>1</th>\n",
       "      <td>1</td>\n",
       "      <td>3</td>\n",
       "      <td>4.0</td>\n",
       "    </tr>\n",
       "    <tr>\n",
       "      <th>2</th>\n",
       "      <td>1</td>\n",
       "      <td>6</td>\n",
       "      <td>4.0</td>\n",
       "    </tr>\n",
       "    <tr>\n",
       "      <th>3</th>\n",
       "      <td>1</td>\n",
       "      <td>47</td>\n",
       "      <td>5.0</td>\n",
       "    </tr>\n",
       "    <tr>\n",
       "      <th>4</th>\n",
       "      <td>1</td>\n",
       "      <td>50</td>\n",
       "      <td>5.0</td>\n",
       "    </tr>\n",
       "  </tbody>\n",
       "</table>\n",
       "</div>"
      ],
      "text/plain": [
       "   userId  movieId  rating\n",
       "0       1        1     4.0\n",
       "1       1        3     4.0\n",
       "2       1        6     4.0\n",
       "3       1       47     5.0\n",
       "4       1       50     5.0"
      ]
     },
     "execution_count": 7,
     "metadata": {},
     "output_type": "execute_result"
    }
   ],
   "source": [
    "#check ratings dataset\n",
    "df_ratings.head()"
   ]
  },
  {
   "cell_type": "code",
   "execution_count": 8,
   "id": "db5f35e4-42be-4ae2-adc3-e2ec1c511f9f",
   "metadata": {},
   "outputs": [
    {
     "name": "stdout",
     "output_type": "stream",
     "text": [
      "There are 610 unique users and 9724 unique movies in this data set\n"
     ]
    }
   ],
   "source": [
    "#print the number of users and movies\n",
    "num_users = len(df_ratings.userId.unique())\n",
    "num_items = len(df_ratings.movieId.unique())\n",
    "print('There are {} unique users and {} unique movies in this data set'.format(num_users, num_items))"
   ]
  },
  {
   "cell_type": "code",
   "execution_count": 10,
   "id": "36cd1b68-444a-45d0-be25-22b0389758fd",
   "metadata": {},
   "outputs": [
    {
     "data": {
      "text/html": [
       "<div>\n",
       "<style scoped>\n",
       "    .dataframe tbody tr th:only-of-type {\n",
       "        vertical-align: middle;\n",
       "    }\n",
       "\n",
       "    .dataframe tbody tr th {\n",
       "        vertical-align: top;\n",
       "    }\n",
       "\n",
       "    .dataframe thead th {\n",
       "        text-align: right;\n",
       "    }\n",
       "</style>\n",
       "<table border=\"1\" class=\"dataframe\">\n",
       "  <thead>\n",
       "    <tr style=\"text-align: right;\">\n",
       "      <th></th>\n",
       "      <th>count</th>\n",
       "    </tr>\n",
       "    <tr>\n",
       "      <th>rating</th>\n",
       "      <th></th>\n",
       "    </tr>\n",
       "  </thead>\n",
       "  <tbody>\n",
       "    <tr>\n",
       "      <th>0.5</th>\n",
       "      <td>1370</td>\n",
       "    </tr>\n",
       "    <tr>\n",
       "      <th>1.0</th>\n",
       "      <td>2811</td>\n",
       "    </tr>\n",
       "    <tr>\n",
       "      <th>1.5</th>\n",
       "      <td>1791</td>\n",
       "    </tr>\n",
       "    <tr>\n",
       "      <th>2.0</th>\n",
       "      <td>7551</td>\n",
       "    </tr>\n",
       "    <tr>\n",
       "      <th>2.5</th>\n",
       "      <td>5550</td>\n",
       "    </tr>\n",
       "    <tr>\n",
       "      <th>3.0</th>\n",
       "      <td>20047</td>\n",
       "    </tr>\n",
       "    <tr>\n",
       "      <th>3.5</th>\n",
       "      <td>13136</td>\n",
       "    </tr>\n",
       "    <tr>\n",
       "      <th>4.0</th>\n",
       "      <td>26818</td>\n",
       "    </tr>\n",
       "    <tr>\n",
       "      <th>4.5</th>\n",
       "      <td>8551</td>\n",
       "    </tr>\n",
       "    <tr>\n",
       "      <th>5.0</th>\n",
       "      <td>13211</td>\n",
       "    </tr>\n",
       "  </tbody>\n",
       "</table>\n",
       "</div>"
      ],
      "text/plain": [
       "        count\n",
       "rating       \n",
       "0.5      1370\n",
       "1.0      2811\n",
       "1.5      1791\n",
       "2.0      7551\n",
       "2.5      5550\n",
       "3.0     20047\n",
       "3.5     13136\n",
       "4.0     26818\n",
       "4.5      8551\n",
       "5.0     13211"
      ]
     },
     "execution_count": 10,
     "metadata": {},
     "output_type": "execute_result"
    }
   ],
   "source": [
    "#beginning of data exploratory analysis\n",
    "#get count\n",
    "df_ratings_count = pd.DataFrame(df_ratings.groupby('rating').size(), columns=['count'])\n",
    "df_ratings_count"
   ]
  },
  {
   "cell_type": "code",
   "execution_count": 11,
   "id": "385b35f0-2284-44f9-b05c-4bc2b9e9e26e",
   "metadata": {},
   "outputs": [
    {
     "data": {
      "text/html": [
       "<div>\n",
       "<style scoped>\n",
       "    .dataframe tbody tr th:only-of-type {\n",
       "        vertical-align: middle;\n",
       "    }\n",
       "\n",
       "    .dataframe tbody tr th {\n",
       "        vertical-align: top;\n",
       "    }\n",
       "\n",
       "    .dataframe thead th {\n",
       "        text-align: right;\n",
       "    }\n",
       "</style>\n",
       "<table border=\"1\" class=\"dataframe\">\n",
       "  <thead>\n",
       "    <tr style=\"text-align: right;\">\n",
       "      <th></th>\n",
       "      <th>movieId</th>\n",
       "      <th>title</th>\n",
       "      <th>userId</th>\n",
       "      <th>rating</th>\n",
       "    </tr>\n",
       "  </thead>\n",
       "  <tbody>\n",
       "    <tr>\n",
       "      <th>0</th>\n",
       "      <td>1</td>\n",
       "      <td>Toy Story (1995)</td>\n",
       "      <td>1</td>\n",
       "      <td>4.0</td>\n",
       "    </tr>\n",
       "    <tr>\n",
       "      <th>1</th>\n",
       "      <td>1</td>\n",
       "      <td>Toy Story (1995)</td>\n",
       "      <td>5</td>\n",
       "      <td>4.0</td>\n",
       "    </tr>\n",
       "    <tr>\n",
       "      <th>2</th>\n",
       "      <td>1</td>\n",
       "      <td>Toy Story (1995)</td>\n",
       "      <td>7</td>\n",
       "      <td>4.5</td>\n",
       "    </tr>\n",
       "    <tr>\n",
       "      <th>3</th>\n",
       "      <td>1</td>\n",
       "      <td>Toy Story (1995)</td>\n",
       "      <td>15</td>\n",
       "      <td>2.5</td>\n",
       "    </tr>\n",
       "    <tr>\n",
       "      <th>4</th>\n",
       "      <td>1</td>\n",
       "      <td>Toy Story (1995)</td>\n",
       "      <td>17</td>\n",
       "      <td>4.5</td>\n",
       "    </tr>\n",
       "  </tbody>\n",
       "</table>\n",
       "</div>"
      ],
      "text/plain": [
       "   movieId             title  userId  rating\n",
       "0        1  Toy Story (1995)       1     4.0\n",
       "1        1  Toy Story (1995)       5     4.0\n",
       "2        1  Toy Story (1995)       7     4.5\n",
       "3        1  Toy Story (1995)      15     2.5\n",
       "4        1  Toy Story (1995)      17     4.5"
      ]
     },
     "execution_count": 11,
     "metadata": {},
     "output_type": "execute_result"
    }
   ],
   "source": [
    "#merge movies and ratings datasets\n",
    "movies_ratings_dataset = pd.merge(df_movies, df_ratings, how='inner', on='movieId')\n",
    "movies_ratings_dataset.head()"
   ]
  },
  {
   "cell_type": "code",
   "execution_count": 12,
   "id": "90b304c6-ca4d-484d-931a-0496930a4879",
   "metadata": {},
   "outputs": [
    {
     "data": {
      "text/html": [
       "<div>\n",
       "<style scoped>\n",
       "    .dataframe tbody tr th:only-of-type {\n",
       "        vertical-align: middle;\n",
       "    }\n",
       "\n",
       "    .dataframe tbody tr th {\n",
       "        vertical-align: top;\n",
       "    }\n",
       "\n",
       "    .dataframe thead th {\n",
       "        text-align: right;\n",
       "    }\n",
       "</style>\n",
       "<table border=\"1\" class=\"dataframe\">\n",
       "  <thead>\n",
       "    <tr style=\"text-align: right;\">\n",
       "      <th></th>\n",
       "      <th>userId</th>\n",
       "      <th>title</th>\n",
       "      <th>rating</th>\n",
       "    </tr>\n",
       "  </thead>\n",
       "  <tbody>\n",
       "    <tr>\n",
       "      <th>0</th>\n",
       "      <td>1</td>\n",
       "      <td>13th Warrior, The (1999)</td>\n",
       "      <td>4.0</td>\n",
       "    </tr>\n",
       "    <tr>\n",
       "      <th>1</th>\n",
       "      <td>1</td>\n",
       "      <td>20 Dates (1998)</td>\n",
       "      <td>4.0</td>\n",
       "    </tr>\n",
       "    <tr>\n",
       "      <th>2</th>\n",
       "      <td>1</td>\n",
       "      <td>Abyss, The (1989)</td>\n",
       "      <td>4.0</td>\n",
       "    </tr>\n",
       "    <tr>\n",
       "      <th>3</th>\n",
       "      <td>1</td>\n",
       "      <td>Adventures of Robin Hood, The (1938)</td>\n",
       "      <td>5.0</td>\n",
       "    </tr>\n",
       "    <tr>\n",
       "      <th>4</th>\n",
       "      <td>1</td>\n",
       "      <td>Alice in Wonderland (1951)</td>\n",
       "      <td>5.0</td>\n",
       "    </tr>\n",
       "  </tbody>\n",
       "</table>\n",
       "</div>"
      ],
      "text/plain": [
       "   userId                                 title  rating\n",
       "0       1              13th Warrior, The (1999)     4.0\n",
       "1       1                       20 Dates (1998)     4.0\n",
       "2       1                     Abyss, The (1989)     4.0\n",
       "3       1  Adventures of Robin Hood, The (1938)     5.0\n",
       "4       1            Alice in Wonderland (1951)     5.0"
      ]
     },
     "execution_count": 12,
     "metadata": {},
     "output_type": "execute_result"
    }
   ],
   "source": [
    "#group the merged dataset by userId and movie title\n",
    "merged_dataset = movies_ratings_dataset.groupby(by=['userId','title'], as_index=False).agg({\"rating\":\"mean\"})\n",
    "merged_dataset.head()"
   ]
  },
  {
   "cell_type": "code",
   "execution_count": 14,
   "id": "e5b35e6e-0f6e-4f3c-b9e1-9593fd4832a1",
   "metadata": {},
   "outputs": [
    {
     "data": {
      "text/html": [
       "<div>\n",
       "<style scoped>\n",
       "    .dataframe tbody tr th:only-of-type {\n",
       "        vertical-align: middle;\n",
       "    }\n",
       "\n",
       "    .dataframe tbody tr th {\n",
       "        vertical-align: top;\n",
       "    }\n",
       "\n",
       "    .dataframe thead th {\n",
       "        text-align: right;\n",
       "    }\n",
       "</style>\n",
       "<table border=\"1\" class=\"dataframe\">\n",
       "  <thead>\n",
       "    <tr style=\"text-align: right;\">\n",
       "      <th></th>\n",
       "      <th>count</th>\n",
       "    </tr>\n",
       "    <tr>\n",
       "      <th>rating</th>\n",
       "      <th></th>\n",
       "    </tr>\n",
       "  </thead>\n",
       "  <tbody>\n",
       "    <tr>\n",
       "      <th>0.50</th>\n",
       "      <td>1370</td>\n",
       "    </tr>\n",
       "    <tr>\n",
       "      <th>1.00</th>\n",
       "      <td>2811</td>\n",
       "    </tr>\n",
       "    <tr>\n",
       "      <th>1.50</th>\n",
       "      <td>1791</td>\n",
       "    </tr>\n",
       "    <tr>\n",
       "      <th>2.00</th>\n",
       "      <td>7550</td>\n",
       "    </tr>\n",
       "    <tr>\n",
       "      <th>2.25</th>\n",
       "      <td>1</td>\n",
       "    </tr>\n",
       "    <tr>\n",
       "      <th>2.50</th>\n",
       "      <td>5549</td>\n",
       "    </tr>\n",
       "    <tr>\n",
       "      <th>3.00</th>\n",
       "      <td>20047</td>\n",
       "    </tr>\n",
       "    <tr>\n",
       "      <th>3.50</th>\n",
       "      <td>13134</td>\n",
       "    </tr>\n",
       "    <tr>\n",
       "      <th>4.00</th>\n",
       "      <td>26817</td>\n",
       "    </tr>\n",
       "    <tr>\n",
       "      <th>4.50</th>\n",
       "      <td>8551</td>\n",
       "    </tr>\n",
       "    <tr>\n",
       "      <th>5.00</th>\n",
       "      <td>13211</td>\n",
       "    </tr>\n",
       "  </tbody>\n",
       "</table>\n",
       "</div>"
      ],
      "text/plain": [
       "        count\n",
       "rating       \n",
       "0.50     1370\n",
       "1.00     2811\n",
       "1.50     1791\n",
       "2.00     7550\n",
       "2.25        1\n",
       "2.50     5549\n",
       "3.00    20047\n",
       "3.50    13134\n",
       "4.00    26817\n",
       "4.50     8551\n",
       "5.00    13211"
      ]
     },
     "execution_count": 14,
     "metadata": {},
     "output_type": "execute_result"
    }
   ],
   "source": [
    "#count all non-zero ratings\n",
    "rating_count_df = pd.DataFrame(merged_dataset.groupby(['rating']).size(), columns=['count'])\n",
    "rating_count_df"
   ]
  },
  {
   "cell_type": "code",
   "execution_count": 16,
   "id": "690f56e7-bca4-4c76-ad5b-f4667639875d",
   "metadata": {},
   "outputs": [
    {
     "data": {
      "text/plain": [
       "Text(0, 0.5, 'Frequency')"
      ]
     },
     "execution_count": 16,
     "metadata": {},
     "output_type": "execute_result"
    },
    {
     "data": {
      "image/png": "[encoded data removed]",
      "text/plain": [
       "<Figure size 1200x800 with 1 Axes>"
      ]
     },
     "metadata": {},
     "output_type": "display_data"
    }
   ],
   "source": [
    "ax = rating_count_df.reset_index().rename(columns={'index': 'rating score'}).plot('rating','count', 'bar',\n",
    "    figsize=(12, 8),\n",
    "    title='Count for Each Rating Score Greater than 0',\n",
    "    fontsize=12)\n",
    "\n",
    "ax.set_xlabel(\"movie rating score\")\n",
    "ax.set_ylabel(\"Frequency\")"
   ]
  },
  {
   "cell_type": "code",
   "execution_count": 17,
   "id": "afe6b261-7d7f-461f-946b-53967b193de2",
   "metadata": {},
   "outputs": [
    {
     "data": {
      "text/plain": [
       "5830808"
      ]
     },
     "execution_count": 17,
     "metadata": {},
     "output_type": "execute_result"
    }
   ],
   "source": [
    "#check number of 0 ratings (unseen by individual users)\n",
    "total_count = num_items * num_users\n",
    "zero_count = total_count-merged_dataset.shape[0]\n",
    "zero_count"
   ]
  },
  {
   "cell_type": "code",
   "execution_count": 18,
   "id": "b3a97ce0-f9b8-41d1-b743-9a0b7eab7bbe",
   "metadata": {},
   "outputs": [
    {
     "name": "stderr",
     "output_type": "stream",
     "text": [
      "/var/folders/x1/m5gpd8ns2nd93ng5jw4wcxd00000gn/T/ipykernel_72318/4160613130.py:2: FutureWarning: The frame.append method is deprecated and will be removed from pandas in a future version. Use pandas.concat instead.\n",
      "  rating_count_df = rating_count_df.append(\n"
     ]
    },
    {
     "data": {
      "text/html": [
       "<div>\n",
       "<style scoped>\n",
       "    .dataframe tbody tr th:only-of-type {\n",
       "        vertical-align: middle;\n",
       "    }\n",
       "\n",
       "    .dataframe tbody tr th {\n",
       "        vertical-align: top;\n",
       "    }\n",
       "\n",
       "    .dataframe thead th {\n",
       "        text-align: right;\n",
       "    }\n",
       "</style>\n",
       "<table border=\"1\" class=\"dataframe\">\n",
       "  <thead>\n",
       "    <tr style=\"text-align: right;\">\n",
       "      <th></th>\n",
       "      <th>count</th>\n",
       "    </tr>\n",
       "  </thead>\n",
       "  <tbody>\n",
       "    <tr>\n",
       "      <th>0.00</th>\n",
       "      <td>5830808</td>\n",
       "    </tr>\n",
       "    <tr>\n",
       "      <th>0.50</th>\n",
       "      <td>1370</td>\n",
       "    </tr>\n",
       "    <tr>\n",
       "      <th>1.00</th>\n",
       "      <td>2811</td>\n",
       "    </tr>\n",
       "    <tr>\n",
       "      <th>1.50</th>\n",
       "      <td>1791</td>\n",
       "    </tr>\n",
       "    <tr>\n",
       "      <th>2.00</th>\n",
       "      <td>7550</td>\n",
       "    </tr>\n",
       "    <tr>\n",
       "      <th>2.25</th>\n",
       "      <td>1</td>\n",
       "    </tr>\n",
       "    <tr>\n",
       "      <th>2.50</th>\n",
       "      <td>5549</td>\n",
       "    </tr>\n",
       "    <tr>\n",
       "      <th>3.00</th>\n",
       "      <td>20047</td>\n",
       "    </tr>\n",
       "    <tr>\n",
       "      <th>3.50</th>\n",
       "      <td>13134</td>\n",
       "    </tr>\n",
       "    <tr>\n",
       "      <th>4.00</th>\n",
       "      <td>26817</td>\n",
       "    </tr>\n",
       "    <tr>\n",
       "      <th>4.50</th>\n",
       "      <td>8551</td>\n",
       "    </tr>\n",
       "    <tr>\n",
       "      <th>5.00</th>\n",
       "      <td>13211</td>\n",
       "    </tr>\n",
       "  </tbody>\n",
       "</table>\n",
       "</div>"
      ],
      "text/plain": [
       "        count\n",
       "0.00  5830808\n",
       "0.50     1370\n",
       "1.00     2811\n",
       "1.50     1791\n",
       "2.00     7550\n",
       "2.25        1\n",
       "2.50     5549\n",
       "3.00    20047\n",
       "3.50    13134\n",
       "4.00    26817\n",
       "4.50     8551\n",
       "5.00    13211"
      ]
     },
     "execution_count": 18,
     "metadata": {},
     "output_type": "execute_result"
    }
   ],
   "source": [
    "#include counts of zero rating within ratings_count_df\n",
    "rating_count_df = rating_count_df.append(\n",
    "    pd.DataFrame({'count': zero_count},index=[0.0]),\n",
    "    verify_integrity=True,\n",
    ").sort_index()\n",
    "rating_count_df"
   ]
  },
  {
   "cell_type": "code",
   "execution_count": 19,
   "id": "4d22222b-7f7b-4e56-944f-416317190d2d",
   "metadata": {},
   "outputs": [
    {
     "data": {
      "text/html": [
       "<div>\n",
       "<style scoped>\n",
       "    .dataframe tbody tr th:only-of-type {\n",
       "        vertical-align: middle;\n",
       "    }\n",
       "\n",
       "    .dataframe tbody tr th {\n",
       "        vertical-align: top;\n",
       "    }\n",
       "\n",
       "    .dataframe thead th {\n",
       "        text-align: right;\n",
       "    }\n",
       "</style>\n",
       "<table border=\"1\" class=\"dataframe\">\n",
       "  <thead>\n",
       "    <tr style=\"text-align: right;\">\n",
       "      <th></th>\n",
       "      <th>count</th>\n",
       "      <th>log_count</th>\n",
       "    </tr>\n",
       "  </thead>\n",
       "  <tbody>\n",
       "    <tr>\n",
       "      <th>0.00</th>\n",
       "      <td>5830808</td>\n",
       "      <td>15.578666</td>\n",
       "    </tr>\n",
       "    <tr>\n",
       "      <th>0.50</th>\n",
       "      <td>1370</td>\n",
       "      <td>7.222566</td>\n",
       "    </tr>\n",
       "    <tr>\n",
       "      <th>1.00</th>\n",
       "      <td>2811</td>\n",
       "      <td>7.941296</td>\n",
       "    </tr>\n",
       "    <tr>\n",
       "      <th>1.50</th>\n",
       "      <td>1791</td>\n",
       "      <td>7.490529</td>\n",
       "    </tr>\n",
       "    <tr>\n",
       "      <th>2.00</th>\n",
       "      <td>7550</td>\n",
       "      <td>8.929303</td>\n",
       "    </tr>\n",
       "    <tr>\n",
       "      <th>2.25</th>\n",
       "      <td>1</td>\n",
       "      <td>0.000000</td>\n",
       "    </tr>\n",
       "    <tr>\n",
       "      <th>2.50</th>\n",
       "      <td>5549</td>\n",
       "      <td>8.621373</td>\n",
       "    </tr>\n",
       "    <tr>\n",
       "      <th>3.00</th>\n",
       "      <td>20047</td>\n",
       "      <td>9.905835</td>\n",
       "    </tr>\n",
       "    <tr>\n",
       "      <th>3.50</th>\n",
       "      <td>13134</td>\n",
       "      <td>9.482960</td>\n",
       "    </tr>\n",
       "    <tr>\n",
       "      <th>4.00</th>\n",
       "      <td>26817</td>\n",
       "      <td>10.196791</td>\n",
       "    </tr>\n",
       "    <tr>\n",
       "      <th>4.50</th>\n",
       "      <td>8551</td>\n",
       "      <td>9.053804</td>\n",
       "    </tr>\n",
       "    <tr>\n",
       "      <th>5.00</th>\n",
       "      <td>13211</td>\n",
       "      <td>9.488805</td>\n",
       "    </tr>\n",
       "  </tbody>\n",
       "</table>\n",
       "</div>"
      ],
      "text/plain": [
       "        count  log_count\n",
       "0.00  5830808  15.578666\n",
       "0.50     1370   7.222566\n",
       "1.00     2811   7.941296\n",
       "1.50     1791   7.490529\n",
       "2.00     7550   8.929303\n",
       "2.25        1   0.000000\n",
       "2.50     5549   8.621373\n",
       "3.00    20047   9.905835\n",
       "3.50    13134   9.482960\n",
       "4.00    26817  10.196791\n",
       "4.50     8551   9.053804\n",
       "5.00    13211   9.488805"
      ]
     },
     "execution_count": 19,
     "metadata": {},
     "output_type": "execute_result"
    }
   ],
   "source": [
    "# add log count\n",
    "rating_count_df['log_count'] = np.log(rating_count_df['count'])\n",
    "rating_count_df"
   ]
  },
  {
   "cell_type": "code",
   "execution_count": 20,
   "id": "efa85201-473c-4d7c-8021-414743b6d5ce",
   "metadata": {},
   "outputs": [
    {
     "data": {
      "text/plain": [
       "Text(0, 0.5, 'number of ratings')"
      ]
     },
     "execution_count": 20,
     "metadata": {},
     "output_type": "execute_result"
    },
    {
     "data": {
      "image/png": "[encoded data removed]",
      "text/plain": [
       "<Figure size 1200x800 with 1 Axes>"
      ]
     },
     "metadata": {},
     "output_type": "display_data"
    }
   ],
   "source": [
    "#plot on the logy scale\n",
    "ax = rating_count_df[['count']].reset_index().rename(columns={'index': 'rating'}).plot(\n",
    "    x='rating',\n",
    "    y='count',\n",
    "    kind='bar',\n",
    "    figsize=(12, 8),\n",
    "    title='Count for Each Rating Score (in Log Scale)',\n",
    "    logy=True,\n",
    "    fontsize=12,\n",
    ")\n",
    "ax.set_xlabel(\"movie rating score\")\n",
    "ax.set_ylabel(\"number of ratings\")"
   ]
  },
  {
   "cell_type": "code",
   "execution_count": 21,
   "id": "20556919-c5d1-4389-85ab-5390f5a0e2d9",
   "metadata": {},
   "outputs": [
    {
     "data": {
      "text/plain": [
       "<9724x610 sparse matrix of type '<class 'numpy.float32'>'\n",
       "\twith 100836 stored elements in Compressed Sparse Row format>"
      ]
     },
     "execution_count": 21,
     "metadata": {},
     "output_type": "execute_result"
    }
   ],
   "source": [
    "#Combine datasets into Sparse Matrix\n",
    "movies_users = df_ratings.pivot(index = 'movieId', columns = 'userId', values = 'rating').fillna(0)\n",
    "matrix_movies_users = csr_matrix(movies_users.values)\n",
    "matrix_movies_users"
   ]
  },
  {
   "cell_type": "code",
   "execution_count": 22,
   "id": "7592e909-4d69-4145-ae48-c8d214e37431",
   "metadata": {},
   "outputs": [],
   "source": [
    "#create a model\n",
    "#We are using cosine similarity as our distance metric and brute force as our algorithm\n",
    "#select the top 10 nearest neighbors\n",
    "model_knn = NearestNeighbors(metric = 'cosine', algorithm = 'brute', n_neighbors = 10)"
   ]
  },
  {
   "cell_type": "code",
   "execution_count": 23,
   "id": "55305c49-8c02-4be1-bb65-585748f045f7",
   "metadata": {},
   "outputs": [
    {
     "data": {
      "text/html": [
       "<style>#sk-container-id-1 {color: black;background-color: white;}#sk-container-id-1 pre{padding: 0;}#sk-container-id-1 div.sk-toggleable {background-color: white;}#sk-container-id-1 label.sk-toggleable__label {cursor: pointer;display: block;width: 100%;margin-bottom: 0;padding: 0.3em;box-sizing: border-box;text-align: center;}#sk-container-id-1 label.sk-toggleable__label-arrow:before {content: \"▸\";float: left;margin-right: 0.25em;color: #696969;}#sk-container-id-1 label.sk-toggleable__label-arrow:hover:before {color: black;}#sk-container-id-1 div.sk-estimator:hover label.sk-toggleable__label-arrow:before {color: black;}#sk-container-id-1 div.sk-toggleable__content {max-height: 0;max-width: 0;overflow: hidden;text-align: left;background-color: #f0f8ff;}#sk-container-id-1 div.sk-toggleable__content pre {margin: 0.2em;color: black;border-radius: 0.25em;background-color: #f0f8ff;}#sk-container-id-1 input.sk-toggleable__control:checked~div.sk-toggleable__content {max-height: 200px;max-width: 100%;overflow: auto;}#sk-container-id-1 input.sk-toggleable__control:checked~label.sk-toggleable__label-arrow:before {content: \"▾\";}#sk-container-id-1 div.sk-estimator input.sk-toggleable__control:checked~label.sk-toggleable__label {background-color: #d4ebff;}#sk-container-id-1 div.sk-label input.sk-toggleable__control:checked~label.sk-toggleable__label {background-color: #d4ebff;}#sk-container-id-1 input.sk-hidden--visually {border: 0;clip: rect(1px 1px 1px 1px);clip: rect(1px, 1px, 1px, 1px);height: 1px;margin: -1px;overflow: hidden;padding: 0;position: absolute;width: 1px;}#sk-container-id-1 div.sk-estimator {font-family: monospace;background-color: #f0f8ff;border: 1px dotted black;border-radius: 0.25em;box-sizing: border-box;margin-bottom: 0.5em;}#sk-container-id-1 div.sk-estimator:hover {background-color: #d4ebff;}#sk-container-id-1 div.sk-parallel-item::after {content: \"\";width: 100%;border-bottom: 1px solid gray;flex-grow: 1;}#sk-container-id-1 div.sk-label:hover label.sk-toggleable__label {background-color: #d4ebff;}#sk-container-id-1 div.sk-serial::before {content: \"\";position: absolute;border-left: 1px solid gray;box-sizing: border-box;top: 0;bottom: 0;left: 50%;z-index: 0;}#sk-container-id-1 div.sk-serial {display: flex;flex-direction: column;align-items: center;background-color: white;padding-right: 0.2em;padding-left: 0.2em;position: relative;}#sk-container-id-1 div.sk-item {position: relative;z-index: 1;}#sk-container-id-1 div.sk-parallel {display: flex;align-items: stretch;justify-content: center;background-color: white;position: relative;}#sk-container-id-1 div.sk-item::before, #sk-container-id-1 div.sk-parallel-item::before {content: \"\";position: absolute;border-left: 1px solid gray;box-sizing: border-box;top: 0;bottom: 0;left: 50%;z-index: -1;}#sk-container-id-1 div.sk-parallel-item {display: flex;flex-direction: column;z-index: 1;position: relative;background-color: white;}#sk-container-id-1 div.sk-parallel-item:first-child::after {align-self: flex-end;width: 50%;}#sk-container-id-1 div.sk-parallel-item:last-child::after {align-self: flex-start;width: 50%;}#sk-container-id-1 div.sk-parallel-item:only-child::after {width: 0;}#sk-container-id-1 div.sk-dashed-wrapped {border: 1px dashed gray;margin: 0 0.4em 0.5em 0.4em;box-sizing: border-box;padding-bottom: 0.4em;background-color: white;}#sk-container-id-1 div.sk-label label {font-family: monospace;font-weight: bold;display: inline-block;line-height: 1.2em;}#sk-container-id-1 div.sk-label-container {text-align: center;}#sk-container-id-1 div.sk-container {/* jupyter's `normalize.less` sets `[hidden] { display: none; }` but bootstrap.min.css set `[hidden] { display: none !important; }` so we also need the `!important` here to be able to override the default hidden behavior on the sphinx rendered scikit-learn.org. See: https://github.com/scikit-learn/scikit-learn/issues/21755 */display: inline-block !important;position: relative;}#sk-container-id-1 div.sk-text-repr-fallback {display: none;}</style><div id=\"sk-container-id-1\" class=\"sk-top-container\"><div class=\"sk-text-repr-fallback\"><pre>NearestNeighbors(algorithm=&#x27;brute&#x27;, metric=&#x27;cosine&#x27;, n_neighbors=10)</pre><b>In a Jupyter environment, please rerun this cell to show the HTML representation or trust the notebook. <br />On GitHub, the HTML representation is unable to render, please try loading this page with nbviewer.org.</b></div><div class=\"sk-container\" hidden><div class=\"sk-item\"><div class=\"sk-estimator sk-toggleable\"><input class=\"sk-toggleable__control sk-hidden--visually\" id=\"sk-estimator-id-1\" type=\"checkbox\" checked><label for=\"sk-estimator-id-1\" class=\"sk-toggleable__label sk-toggleable__label-arrow\">NearestNeighbors</label><div class=\"sk-toggleable__content\"><pre>NearestNeighbors(algorithm=&#x27;brute&#x27;, metric=&#x27;cosine&#x27;, n_neighbors=10)</pre></div></div></div></div></div>"
      ],
      "text/plain": [
       "NearestNeighbors(algorithm='brute', metric='cosine', n_neighbors=10)"
      ]
     },
     "execution_count": 23,
     "metadata": {},
     "output_type": "execute_result"
    }
   ],
   "source": [
    "#use the model to fit the sparse matrix\n",
    "model_knn.fit(matrix_movies_users)"
   ]
  },
  {
   "cell_type": "code",
   "execution_count": 24,
   "id": "6a951289-4982-41c6-8d0c-04c9415004f7",
   "metadata": {
    "tags": []
   },
   "outputs": [],
   "source": [
    "#writes the recommender function\n",
    "def recommender(movie_name, data, model, n_recommendations):\n",
    "    model.fit(data)\n",
    "    idx = process.extractOne(movie_name, df_movies['title'])[2]\n",
    "    print('Movie Selected: ', df_movies['title'][idx], 'Index: ',idx)\n",
    "    print('Searching for recommendations.....')\n",
    "    distances, indices = model.kneighbors(data[idx], n_neighbors = n_recommendations)\n",
    "    for i in indices:\n",
    "        print(df_movies['title'][i].where(i!=idx))"
   ]
  },
  {
   "cell_type": "code",
   "execution_count": 25,
   "id": "d0bf1dc8-aa29-4a50-aed2-83eecefa6eaa",
   "metadata": {},
   "outputs": [
    {
     "name": "stdout",
     "output_type": "stream",
     "text": [
      "Movie Selected:  Jurassic Park (1993) Index:  418\n",
      "Searching for recommendations.....\n",
      "418                                     NaN\n",
      "507       Terminator 2: Judgment Day (1991)\n",
      "314                     Forrest Gump (1994)\n",
      "97                        Braveheart (1995)\n",
      "398                    Fugitive, The (1993)\n",
      "334                            Speed (1994)\n",
      "509                           Batman (1989)\n",
      "615    Independence Day (a.k.a. ID4) (1996)\n",
      "123                        Apollo 13 (1995)\n",
      "337                        True Lies (1994)\n",
      "Name: title, dtype: object\n"
     ]
    }
   ],
   "source": [
    "#test recommender with a movie\n",
    "recommender('Jurassic park', matrix_movies_users, model_knn,10)"
   ]
  },
  {
   "cell_type": "markdown",
   "id": "4fda268f",
   "metadata": {},
   "source": [
    "## AI in fabrics of society\n",
    "### Inequality and Unpredictability of Success (The Music Lab Experiment)\n",
    "\n",
    "The famous Music Lab experiment (Salganik, Dodds and Watts; 2006) shows that social influence leads to the inequality and unpredictability of success of creative content (pre-online streaming era). http://www.princeton.edu/~mjs3/musiclab.shtml \n",
    "\n",
    "*Salganik, Matthew J., Peter Sheridan Dodds, and Duncan J. Watts. \"Experimental study of inequality and unpredictability in an artificial cultural market.\" science 311, no. 5762 (2006): 854-856.\n",
    "\n"
   ]
  },
  {
   "cell_type": "markdown",
   "id": "6472afbb",
   "metadata": {},
   "source": [
    "### The Netflix Prize\n",
    "\n",
    "The Netflix Prize competition offered $1 million for improving their existing system by 10\\%. They released the anonymized data of more than a hundred million movie rating records corresponding to half a million users. Two weeks later, Arvind Narayanan and Vitaly Shmatikov showed that an adversary with little prior knowledge can identify many of the users in the released dataset (e.g, 99\\% of users could be uniquely identified knowing the approximate dates of six of their ratings). More on the history of the prize and the ensuing privacy lawsuit: https://en.wikipedia.org/wiki/Netflix_Prize \n",
    "\n",
    "*Narayanan, Arvind, and Vitaly Shmatikov. \"How to break anonymity of the netflix prize dataset.\" arXiv preprint cs/0610105 (2006). \n"
   ]
  }
 ],
 "metadata": {
  "kernelspec": {
   "display_name": "Python 3 (ipykernel)",
   "language": "python",
   "name": "python3"
  },
  "language_info": {
   "codemirror_mode": {
    "name": "ipython",
    "version": 3
   },
   "file_extension": ".py",
   "mimetype": "text/x-python",
   "name": "python",
   "nbconvert_exporter": "python",
   "pygments_lexer": "ipython3",
   "version": "3.10.6"
  }
 },
 "nbformat": 4,
 "nbformat_minor": 5
}
