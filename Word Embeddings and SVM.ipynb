{
 "cells": [
  {
   "cell_type": "markdown",
   "id": "113f8932",
   "metadata": {},
   "source": [
    "# Support Vector Machine\n",
    "\n",
    "## Background reading:\n",
    "*Intro to Statistical Learning*: Chapter 9， Section 9.1, 9.2, 9.3, Support Vector Machine(Page 368-385)\n",
    "\n",
    "*Ethical Algorithm*: Chapter 2, Algorithmic Fairness, Bias by Analogy, (Page 57-63)\n",
    "\n",
    "## Dataset:\n",
    "**2 Attributes:**\n",
    "\n",
    "1. Words (Specific vocabularies that are feminine, masculine or neutral)\n",
    "2. Category\n",
    "\n",
    "Datasets comes from: https://link.springer.com/article/10.3758/BF03195592\n",
    "\n",
    "This tutorial aims at using SVM to classify whether a word is gender-biased. To deal with vocabulary in computer, background of Natural Language Processing is discussed here for you to read if you are interested in.\n",
    "\n",
    "## Essence of Data\n",
    "\n",
    "### Before Algorithms:Basic Concepts\n",
    "\n",
    "In this section, we will first introduce some basic concepts to help you understand what is support vector machine.\n",
    "\n",
    "**Hyperplane**\n",
    "\n",
    "Def: A subspace which has one less dimension than its space.\n",
    "E.g.,  In a 2-dimensional space, a hyperplane is in one dimension (a line); In a 3-dimensional space, a hyperplane is in two dimensions (a plane)\n",
    "\n"
   ]
  },
  {
   "cell_type": "code",
   "execution_count": 1,
   "id": "aa6eedff",
   "metadata": {},
   "outputs": [
    {
     "name": "stderr",
     "output_type": "stream",
     "text": [
      "C:\\Users\\75994\\anaconda3\\lib\\site-packages\\rpy2\\robjects\\packages.py:367: UserWarning: The symbol 'quartz' is not in this R namespace/package.\n",
      "  warnings.warn(\n"
     ]
    }
   ],
   "source": [
    "%load_ext rpy2.ipython\n",
    "\n",
    "#This is used here to allow us to use both Python and R in Jupyter Notebook\n",
    "# Before Running it, make sure that the IR kernel is installed to jupyter. You can also run these codes on r-studio for r languages"
   ]
  },
  {
   "cell_type": "code",
   "execution_count": 2,
   "id": "54e01f45",
   "metadata": {
    "scrolled": true
   },
   "outputs": [
    {
     "name": "stderr",
     "output_type": "stream",
     "text": [
      "R[write to console]: Loading required package: ggplot2\n",
      "\n",
      "R[write to console]: Loading required package: plotly\n",
      "\n",
      "R[write to console]: \n",
      "Attaching package: 'plotly'\n",
      "\n",
      "\n",
      "R[write to console]: The following object is masked from 'package:ggplot2':\n",
      "\n",
      "    last_plot\n",
      "\n",
      "\n",
      "R[write to console]: The following object is masked from 'package:stats':\n",
      "\n",
      "    filter\n",
      "\n",
      "\n",
      "R[write to console]: The following object is masked from 'package:graphics':\n",
      "\n",
      "    layout\n",
      "\n",
      "\n"
     ]
    },
    {
     "data": {
      "text/html": [
       "\n",
       "        <span>BoolVector with 1 elements.</span>\n",
       "        <table>\n",
       "        <tbody>\n",
       "          <tr>\n",
       "          \n",
       "            <td>\n",
       "                   1\n",
       "            </td>\n",
       "          \n",
       "          </tr>\n",
       "        </tbody>\n",
       "        </table>\n",
       "        "
      ],
      "text/plain": [
       "<rpy2.robjects.vectors.BoolVector object at 0x000002C46E38DD00> [RTYPES.LGLSXP]\n",
       "R classes: ('logical',)\n",
       "[       1]"
      ]
     },
     "execution_count": 2,
     "metadata": {},
     "output_type": "execute_result"
    }
   ],
   "source": [
    "# Before run the code, make sure that you have already installed ggplot2 and plotly packages. \n",
    "# Load the package for ggplot2, which is an excellent package to draw statistical graphs\n",
    "%R require('ggplot2')\n",
    "# Package plotly is used for creating 3-d plots\n",
    "%R require('plotly')"
   ]
  },
  {
   "cell_type": "code",
   "execution_count": 3,
   "id": "32a020f4",
   "metadata": {},
   "outputs": [],
   "source": [
    "# Generate a data frame to help understand the hyperplane in 2-d/3-d\n",
    "import pandas as pd\n",
    "df2 = pd.DataFrame({\n",
    "    'x':[0,1,1,2,2,3,3,4,4,4,5,5,6],\n",
    "    'y':[5.2,3.8,4.9,2.5,5.5,3,4,2.2,3.4,4.6,3,2.1,1.5]\n",
    "})\n"
   ]
  },
  {
   "cell_type": "code",
   "execution_count": 12,
   "id": "5549d909",
   "metadata": {},
   "outputs": [
    {
     "data": {
      "image/png": "[encoded data removed]"
     },
     "metadata": {},
     "output_type": "display_data"
    }
   ],
   "source": [
    "%%R -i df2\n",
    "df2$above_below=ifelse(df2$y+0.5*df2$x-5>0,1,0)\n",
    "df2\n",
    "ggplot(df2, aes(x=x,y=y,col=above_below))+\n",
    "       geom_point() + geom_abline(slope=-0.5,intercept=5,col='red')\n"
   ]
  },
  {
   "cell_type": "code",
   "execution_count": 35,
   "id": "02074cec",
   "metadata": {},
   "outputs": [],
   "source": [
    "df3 = pd.DataFrame({\n",
    "    'x':[1,2,2,3,4,6,5,3,3],\n",
    "    'y':[1,2,3,3,4,4,5,2,1],\n",
    "    'z':[3,4,-7,-2,-4,-3,-12,-7,-9]\n",
    "})"
   ]
  },
  {
   "cell_type": "code",
   "execution_count": 38,
   "id": "d33c984d",
   "metadata": {},
   "outputs": [],
   "source": [
    "%%R -i df3\n",
    "df3$above_below=ifelse(df3$x+df3$y+df3$z>0,1,0)\n",
    "df3\n",
    "input1=as.matrix(seq(1,6,0.1))\n",
    "input2=as.matrix(seq(1,6,0.1))\n",
    "input3=as.matrix(-input1-input2)\n",
    "\n",
    "plot_ly(x=df3$x,y=df3$y,z=df3$z,type=\"scatter3d\", mode=\"markers\", color=df3$above_below)%>%\n",
    "add_surface(x=input1,y=input2,z=input3)\n"
   ]
  },
  {
   "cell_type": "markdown",
   "id": "0760c094",
   "metadata": {},
   "source": [
    "The mathematical expression of the hyperplane in p-dimensions is:\n",
    "\n",
    "<div align = 'center'><font size = '6'>$\\beta_0+\\beta_1x_1+\\beta_2x_2+...+\\beta_px_p=0$</font></div>\n",
    "\n",
    "From the graph above, the data points can be separated by a hyperplane in the space. When $\\beta_0+\\beta_1x_1+\\beta_2x_2+...+\\beta_px_p>0$, the data points lie on one side of the hyperplane, while they lie on the other side when $\\beta_0+\\beta_1x_1+\\beta_2x_2+...+\\beta_px_p<0$. It is reasonable to find out this natural classifier to do classification.\n",
    "\n",
    "**Maximal Margin Classifier and Support Vector Classifier**\n",
    "\n",
    "Margin: the perpendicular distance from the observation to the hyperplane\n",
    "\n",
    "Maximal Margin Classifier: Among all the possible hyperplanes that can separate the data into categorizes, select the one that come up with the maximal margin.\n",
    "\n",
    "**Support Vectors:**\n",
    "\n",
    "In the space, there are some observations points that have equal distance from the maximal margin hyperplane. For example, in this graph there are some support vectors lie on the dashed line, with their distances shown as arrows. These observations are called support vectors since they “support” the hyperplane (when the support vectors move a little bit, the hyperplane will move as well, while the movement of other observations does not affect the hyperplane)\n",
    "\n",
    "![Figure 9.3 From Textbook Page 372](./fig/SVM&WE/fig1.png)\n",
    "\n",
    "**Support Vector Classifiers**\n",
    "\n",
    "Sometimes the datasets cannot be separated perfectly by the hyperplane. In such case, support vector classifier is considered, which is a more generalized case of maximal margin classifier. We allow some of the observations to be on the wrong side of the margin/hyperplane. Details of the mathematical expression: page 375.\n",
    "\n",
    "![Figure 9.6 From Textbook Page 376](./fig/SVM&WE/fig2.png)\n",
    "\n",
    "Left: observation 1 and 8 are on the wrong side of the margin\n",
    "Right: observation 11 and 12 are on the wrong side of the hyperplane\n",
    "\n",
    "**Support Vector Machine:**\n",
    "\n",
    "Sometimes the datasets cannot be separated by using a linear hyperplane, even we allow some of the observations to be on the wrong side. For example, it is impossible to build up a classifier by using a linear boundary for the data below. Thus, we need some techniques to increase the complexity and the non-linearity of the model to make good predictions. The technique is called kernel.\n",
    "\n",
    "![Figure 9.8 From Textbook Page 379](./fig/SVM&WE/fig3.png)\n",
    "\n",
    "What is **kernel**?\n",
    "\n",
    "By using some kernel function to transform the data into, for example, higher dimensions, to ensure that the inner product is the same as the previous one, then to make it separable in the new case.\n",
    "\n",
    "Examples of kernel functions:\n",
    "Polynomial, Gaussian, RBF, Sigmoid, Radial, etc.\n",
    "\n",
    "**Which kernel to choose?**\n",
    "\n",
    "This is a very tricky problem and could be one of the drawbacks of SVM, since there are no good rules to follow. Sometimes you should try a lot of different kernel functions to reach out one best model. For example, for the data graph above, both kernel function of polynomial of degree 3 (left) and radial (right) works well.\n",
    "\n",
    "![Figure 9.9 From Textbook Page 383](./fig/SVM&WE/fig4.png)"
   ]
  },
  {
   "cell_type": "markdown",
   "id": "f8b87acd",
   "metadata": {},
   "source": [
    "### Before Application: Background of Natural Language Processing\n",
    "\n",
    "In this section, we will cover topics related to natural language processing(NLP)\n",
    "\n",
    "**Word Processing**\n",
    "\n",
    "\tWhen dealing with the language (known as Natural Language Processing), unfortunately the computer cannot handle the characters/vocabularies and does not understand the meaning of them (Remember when the computer processes the characters, it will transform them into digital data by some encoding form such as Unicode or UTF-8). Consequently, it is necessary to translate the language into digital data before the computer can analyze. The most common techniques include one-hot encoding and word embedding.\n",
    "\n",
    "Here are two useful articles related to the background:\n",
    "\n",
    "**Power of NLP**\n",
    "\n",
    "https://hbr.org/2022/04/the-power-of-natural-language-processing\n",
    "\n",
    "**NLP and Google Translate**\n",
    "\n",
    "https://www.kdnuggets.com/2017/09/machine-learning-translation-google-translate-algorithm.html\n",
    "\n",
    "**What is word embedding?**\n",
    "\n",
    "\tWhen doing the natural language processing, associate a vector with a word where the vectors are learned from data. i.e., generate vectors that encodes the meaning of the words so that the words that are closed to each other in the space that we are interested are similar in their meanings. For example, in a space, we have a “gender” vectors and “plural” vectors. By adding a “female” vector to the vector “king/actor”, we obtain the vector “queen/actress”; by adding the “plural” vector we will obtain “kings/actors”\n",
    "\n",
    "![Words on different axises](./fig/SVM&WE/fig5.jpg)\n"
   ]
  },
  {
   "cell_type": "code",
   "execution_count": 44,
   "id": "40f1c5ff",
   "metadata": {},
   "outputs": [],
   "source": [
    "df_we = pd.DataFrame({\n",
    "    'gender_axis':[1,1,3,3],\n",
    "    'plural_axis':[1,3,1,3]\n",
    "})"
   ]
  },
  {
   "cell_type": "code",
   "execution_count": 50,
   "id": "2fb31f71",
   "metadata": {},
   "outputs": [
    {
     "data": {
      "image/png": "[encoded data removed]"
     },
     "metadata": {},
     "output_type": "display_data"
    }
   ],
   "source": [
    "%%R -i df_we\n",
    "\n",
    "ggplot(data=df_we) +\n",
    "    geom_point(mapping = aes(x = gender_axis, y = plural_axis), shape = 4, size = 6, col = \"red\") +\n",
    "    annotate(\"text\", x = 1.2, y = 1.2, label = \"king\") +\n",
    "    annotate(\"text\", x = 3.2, y = 1.2, label = \"queen\") +\n",
    "    annotate(\"text\", x = 1.2, y = 3.2, label = \"kings\") +\n",
    "    annotate(\"text\", x = 3.2, y = 3.2, label = \"queens\") +\n",
    "    scale_x_continuous(limits=c(0,4)) +\n",
    "    scale_y_continuous(limits=c(0,4))"
   ]
  },
  {
   "cell_type": "markdown",
   "id": "01148885",
   "metadata": {},
   "source": [
    "https://www.ibm.com/blogs/research/2018/11/word-movers-embedding/\n",
    "\n",
    "![Words vectors in the space](./fig/SVM&WE/fig6.png)\n",
    "\n",
    "**Why word embeddings?**\n",
    "\n",
    "\tWhen doing natural language processing, the computer itself does not understand the real meaning behind the vocabularies. It only processing the digital data. Thus, when dealing with languages (or any other non-digital data), we should figure out a way to transform the data into digital data (encoding) so that the computer can understand and process with it, then we get the result by decoding it.\n",
    "\tThere are several different methods to transform the language. Another popular one is the one-hot encoding, which is also a common way. It consists of associating a unique integer index with every word and then turning the index into a binary vector of size of the vocabulary, while the other to be zero. i.e., the vector will be zeros except for that index to be 1. \n",
    "    \n",
    "![Examples of one-hot encoding and Word Embeddings](./fig/SVM&WE/fig7.png)\n",
    "\n",
    "\tHowever, you may think about the downsides of word embeddings. Imagine if there are some neutral vocabularies that do not imply any gender, but it is predicted to be a gender-specific word (which is a bias! Because the word itself does not have any gender-bias) For example, one model may encodes “muscles”, “Programmer” and “game” with vectors that have more “male” values of projection on the gender axis. Sometimes the insufficient of the data will aggravate the bias further.\n",
    "\n",
    "\n"
   ]
  },
  {
   "cell_type": "markdown",
   "id": "d724c39a",
   "metadata": {},
   "source": [
    "### Example of Codes\n",
    "\n",
    "In this section we will try to use word embeddings and SVM as tools to process with words"
   ]
  },
  {
   "cell_type": "code",
   "execution_count": 1,
   "id": "82aec7c0",
   "metadata": {},
   "outputs": [],
   "source": [
    "# First, Import all packages\n",
    "import numpy as np\n",
    "import pandas as pd\n",
    "import gensim\n",
    "from gensim.models import KeyedVectors\n",
    "from gensim import models\n",
    "from sklearn.model_selection import train_test_split\n",
    "from gensim.test.utils import common_texts\n",
    "from gensim.models import Word2Vec\n",
    "from sklearn.svm import SVC"
   ]
  },
  {
   "cell_type": "markdown",
   "id": "a2582df5",
   "metadata": {},
   "source": [
    "*To make a word-embedding model, we will use gensim package which is sophisticated. To simplify understanding, we will use a pre-trained model (Word2Vec) by Google that contains millions of words that are trained based on its corpus. \n",
    "\n",
    "*The pre-trained model is described here: https://code.google.com/archive/p/word2vec/. The model contains millions of words with their vectors (thousands dimensions) with enormous size. \n",
    "\n",
    "**The pre-trained model can be downloaded from here:https://code.google.com/archive/p/word2vec/\n",
    "https://drive.google.com/file/d/0B7XkCwpI5KDYNlNUTTlSS21pQmM/edit?resourcekey=0-wjGZdNAUop6WykTtMip30g\n",
    "**\n"
   ]
  },
  {
   "cell_type": "code",
   "execution_count": 22,
   "id": "383af829",
   "metadata": {},
   "outputs": [
    {
     "data": {
      "text/plain": [
       "<gensim.models.keyedvectors.KeyedVectors at 0x17ef62910c0>"
      ]
     },
     "execution_count": 22,
     "metadata": {},
     "output_type": "execute_result"
    }
   ],
   "source": [
    "# Load the pre-trained model (It takes some time to run it cause the size is millions)\n",
    "# ! Download from website and store it\n",
    "word2vec_path = 'GoogleNews-vectors-negative300.bin.gz'\n",
    "model = models.KeyedVectors.load_word2vec_format(word2vec_path, binary=True)\n",
    "# Notice that model is a \"Word2Vec\" pre-trained model object here\n",
    "model"
   ]
  },
  {
   "cell_type": "code",
   "execution_count": 8,
   "id": "8e7ee88c",
   "metadata": {},
   "outputs": [
    {
     "data": {
      "text/html": [
       "<div>\n",
       "<style scoped>\n",
       "    .dataframe tbody tr th:only-of-type {\n",
       "        vertical-align: middle;\n",
       "    }\n",
       "\n",
       "    .dataframe tbody tr th {\n",
       "        vertical-align: top;\n",
       "    }\n",
       "\n",
       "    .dataframe thead th {\n",
       "        text-align: right;\n",
       "    }\n",
       "</style>\n",
       "<table border=\"1\" class=\"dataframe\">\n",
       "  <thead>\n",
       "    <tr style=\"text-align: right;\">\n",
       "      <th></th>\n",
       "      <th>Vocabulary</th>\n",
       "      <th>Category</th>\n",
       "    </tr>\n",
       "  </thead>\n",
       "  <tbody>\n",
       "    <tr>\n",
       "      <th>0</th>\n",
       "      <td>Wife</td>\n",
       "      <td>Feminine</td>\n",
       "    </tr>\n",
       "    <tr>\n",
       "      <th>1</th>\n",
       "      <td>Princess</td>\n",
       "      <td>Feminine</td>\n",
       "    </tr>\n",
       "    <tr>\n",
       "      <th>2</th>\n",
       "      <td>Bridesmaid</td>\n",
       "      <td>Feminine</td>\n",
       "    </tr>\n",
       "    <tr>\n",
       "      <th>3</th>\n",
       "      <td>Pregnant</td>\n",
       "      <td>Feminine</td>\n",
       "    </tr>\n",
       "    <tr>\n",
       "      <th>4</th>\n",
       "      <td>Bride</td>\n",
       "      <td>Feminine</td>\n",
       "    </tr>\n",
       "    <tr>\n",
       "      <th>...</th>\n",
       "      <td>...</td>\n",
       "      <td>...</td>\n",
       "    </tr>\n",
       "    <tr>\n",
       "      <th>595</th>\n",
       "      <td>Testosterone</td>\n",
       "      <td>Masculine</td>\n",
       "    </tr>\n",
       "    <tr>\n",
       "      <th>596</th>\n",
       "      <td>Husband</td>\n",
       "      <td>Masculine</td>\n",
       "    </tr>\n",
       "    <tr>\n",
       "      <th>597</th>\n",
       "      <td>Father</td>\n",
       "      <td>Masculine</td>\n",
       "    </tr>\n",
       "    <tr>\n",
       "      <th>598</th>\n",
       "      <td>Brother</td>\n",
       "      <td>Masculine</td>\n",
       "    </tr>\n",
       "    <tr>\n",
       "      <th>599</th>\n",
       "      <td>Uncle</td>\n",
       "      <td>Masculine</td>\n",
       "    </tr>\n",
       "  </tbody>\n",
       "</table>\n",
       "<p>600 rows × 2 columns</p>\n",
       "</div>"
      ],
      "text/plain": [
       "       Vocabulary   Category\n",
       "0            Wife   Feminine\n",
       "1        Princess   Feminine\n",
       "2      Bridesmaid   Feminine\n",
       "3        Pregnant   Feminine\n",
       "4           Bride   Feminine\n",
       "..            ...        ...\n",
       "595  Testosterone  Masculine\n",
       "596       Husband  Masculine\n",
       "597        Father  Masculine\n",
       "598       Brother  Masculine\n",
       "599         Uncle  Masculine\n",
       "\n",
       "[600 rows x 2 columns]"
      ]
     },
     "execution_count": 8,
     "metadata": {},
     "output_type": "execute_result"
    }
   ],
   "source": [
    "dataset = pd.read_csv('WordEmbeddings.csv')\n",
    "dataset"
   ]
  },
  {
   "cell_type": "code",
   "execution_count": 26,
   "id": "a9f0a7f1",
   "metadata": {},
   "outputs": [
    {
     "ename": "NameError",
     "evalue": "name 'head' is not defined",
     "output_type": "error",
     "traceback": [
      "\u001b[1;31m---------------------------------------------------------------------------\u001b[0m",
      "\u001b[1;31mNameError\u001b[0m                                 Traceback (most recent call last)",
      "Input \u001b[1;32mIn [26]\u001b[0m, in \u001b[0;36m<cell line: 7>\u001b[1;34m()\u001b[0m\n\u001b[0;32m      4\u001b[0m     word_dict[key] \u001b[38;5;241m=\u001b[39m model\u001b[38;5;241m.\u001b[39mget_vector(key)\n\u001b[0;32m      6\u001b[0m \u001b[38;5;66;03m# Print\u001b[39;00m\n\u001b[1;32m----> 7\u001b[0m \u001b[43mhead\u001b[49m(word_dict)\n\u001b[0;32m      8\u001b[0m \u001b[38;5;28mlen\u001b[39m(word_dict)\n",
      "\u001b[1;31mNameError\u001b[0m: name 'head' is not defined"
     ]
    }
   ],
   "source": [
    "# Access the vectors of the model\n",
    "word_dict = dict({})\n",
    "for index, key in enumerate(model.key_to_index):\n",
    "    word_dict[key] = model.get_vector(key)\n",
    "\n",
    "# Print\n",
    "len(word_dict)"
   ]
  },
  {
   "cell_type": "code",
   "execution_count": 29,
   "id": "80db635a",
   "metadata": {},
   "outputs": [
    {
     "data": {
      "text/plain": [
       "595"
      ]
     },
     "execution_count": 29,
     "metadata": {},
     "output_type": "execute_result"
    }
   ],
   "source": [
    "# The size is too large. Filter those that are useful\n",
    "new_dict = dict((k, word_dict[k]) for k in dataset['Vocabulary'] if k in word_dict)\n",
    "len(new_dict)"
   ]
  },
  {
   "cell_type": "code",
   "execution_count": 51,
   "id": "8d4119ad",
   "metadata": {},
   "outputs": [
    {
     "name": "stdout",
     "output_type": "stream",
     "text": [
      "595\n"
     ]
    }
   ],
   "source": [
    "# Settle Database\n",
    "\n",
    "x_all = list()\n",
    "for x in new_dict.values():\n",
    "    x_all.append(x)\n",
    "\n",
    "print(len(x_all))\n",
    "    \n"
   ]
  },
  {
   "cell_type": "code",
   "execution_count": 52,
   "id": "ad14e255",
   "metadata": {},
   "outputs": [
    {
     "data": {
      "text/plain": [
       "595"
      ]
     },
     "execution_count": 52,
     "metadata": {},
     "output_type": "execute_result"
    }
   ],
   "source": [
    "y_all = list()\n",
    "for y in dataset['Vocabulary']:\n",
    "    if y in new_dict.keys():\n",
    "        y_all.append(y)\n",
    "\n",
    "len(y_all)"
   ]
  },
  {
   "cell_type": "code",
   "execution_count": 92,
   "id": "56880c26",
   "metadata": {},
   "outputs": [
    {
     "data": {
      "text/plain": [
       "119"
      ]
     },
     "execution_count": 92,
     "metadata": {},
     "output_type": "execute_result"
    }
   ],
   "source": [
    "# Separate into training and testing\n",
    "x_train, x_test, y_train, y_test = train_test_split(x_all, y_all, test_size = 0.2, random_state = 43960)\n",
    "len(x_test)"
   ]
  },
  {
   "cell_type": "code",
   "execution_count": 93,
   "id": "b2d44dd9",
   "metadata": {},
   "outputs": [
    {
     "data": {
      "text/plain": [
       "SVC()"
      ]
     },
     "execution_count": 93,
     "metadata": {},
     "output_type": "execute_result"
    }
   ],
   "source": [
    "# Start SVM classifier\n",
    "svm_classifier = SVC()\n",
    "svm_classifier.fit(x_train, y_train)"
   ]
  },
  {
   "cell_type": "code",
   "execution_count": 94,
   "id": "030bd77b",
   "metadata": {},
   "outputs": [
    {
     "data": {
      "text/plain": [
       "1.0"
      ]
     },
     "execution_count": 94,
     "metadata": {},
     "output_type": "execute_result"
    }
   ],
   "source": [
    "# Check the Accuracy\n",
    "svm_classifier.score(x_train, y_train)\n"
   ]
  },
  {
   "cell_type": "code",
   "execution_count": 95,
   "id": "28ddebbf",
   "metadata": {},
   "outputs": [
    {
     "data": {
      "text/plain": [
       "0.0"
      ]
     },
     "execution_count": 95,
     "metadata": {},
     "output_type": "execute_result"
    }
   ],
   "source": [
    "# Check the Accuracy\n",
    "svm_classifier.score(x_test, y_test)\n"
   ]
  },
  {
   "cell_type": "markdown",
   "id": "1e6f1c15",
   "metadata": {},
   "source": [
    "## AI in the fabrics of society\n",
    "\n",
    "Notice that the accuracy of the training data is perfect, but it does not work on testing data. That is to say, when we use machine to classify whether a word is gender-based or not, it will make its own decision that is **sometimes not accurate** for future predictions (since **machine itself does not understand the meaning of vocabulary**)\n",
    "\n",
    "Although the accuracy sometimes is excellent for the machine learning algorithm, the problem is that sometimes it will cause some bias. For some vacabularies that is not a gender-based meaning, the algorithm will consider it to be a gender-related because of, for example, the occurance times of that words together with some other words(such as smoking may be considered to be a masculine word because it appears together with male more often than female)\n",
    "\n",
    "Here is an article regarding this gender-biased problem: \n",
    "\n",
    "Man is to Computer Programmer as Woman is to Homemaker? | by Sheldon Sebastian | Towards Data Science\n",
    "https://towardsdatascience.com/man-is-to-computer-programmer-as-woman-is-to-homemaker-e57b07cbde96"
   ]
  },
  {
   "cell_type": "code",
   "execution_count": null,
   "id": "ad9cdb13",
   "metadata": {},
   "outputs": [],
   "source": []
  }
 ],
 "metadata": {
  "kernelspec": {
   "display_name": "Python 3 (ipykernel)",
   "language": "python",
   "name": "python3"
  },
  "language_info": {
   "codemirror_mode": {
    "name": "ipython",
    "version": 3
   },
   "file_extension": ".py",
   "mimetype": "text/x-python",
   "name": "python",
   "nbconvert_exporter": "python",
   "pygments_lexer": "ipython3",
   "version": "3.9.7"
  }
 },
 "nbformat": 4,
 "nbformat_minor": 5
}
