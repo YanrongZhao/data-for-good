{
 "cells": [
  {
   "cell_type": "markdown",
   "id": "5db3d424",
   "metadata": {},
   "source": [
    "# The spring-up and the prosperity of the digital economy\n",
    "\n",
    "## Background\n",
    "\n",
    "At present, the digital economy has become a new form of economic and social development after the agricultural and industrial economy, as well as a typical representative of the new round of industrial revolution. Along with the development of cloud computing, big data, artificial intelligence and industrial Internet, a new round of information technology revolution is breaking out and the digital economy is rising.\n",
    "\n",
    " \n",
    "\n",
    "Since the birth of the world's first general-purpose electronic computer at the University of Pennsylvania in 1946, it has opened the curtain of the digital era for mankind. However, as an economic form, the digital economy, in fact, has emerged as early as the development of the semiconductor industry. Today, the digital economy is ubiquitous in our lives, and innovative digital economy applications such as mobile payments, gig economy and advertisement auction have influenced every aspect of our daily lives.\n",
    "\n",
    " \n",
    "\n",
    "Vigorous development of the digital economy has also become a global consensus. According to the World Internet Development Report 2018, the global digital economy reached US$12.9 trillion in 2017, with the United States and China ranking among the top two in the world. The new economy represented by the digital economy is now flourishing and has become a new engine to drive global economic growth.\n",
    "\n",
    "**Interesting Article:** https://www.brookings.edu/research/the-fourth-industrial-revolution-and-digitization-will-transform-africa-into-a-global-powerhouse/\n"
   ]
  },
  {
   "cell_type": "markdown",
   "id": "9f58385a",
   "metadata": {},
   "source": [
    "## Google Ads and Ads Auction\n",
    "\n",
    "Advertisements are everywhere that we see, omnipresent presence makes them impressive and sometimes influence our expense plans. Unlike previous advertisement on television or newspaper, because of the prevalent usage of digital devices, people can see advertisements most of the time. \n",
    "\n",
    "One good example is **Google Ads**(formerly **Google AdWords**). When we use the search engine, some advertisements will be shown on the screen to attract users. To determine which advertisement to be shown to platform users, Google will determine by the bid (The maximum amount that company is willing to pay for a click), the quality of ads and the expected impact from the ad extensions and other ad formats. \n",
    "\n",
    "Thus, it is important also to determine which to display on the screen, determined by users' interests, for example. An example database of click rate is here for you to practise: https://www.kaggle.com/datasets/arashnic/ctr-in-advertisement\n"
   ]
  },
  {
   "cell_type": "markdown",
   "id": "60064633",
   "metadata": {},
   "source": [
    "## Gig Economy\n",
    "\n",
    "In such a busy and fast-pace era, new form of economy is burgeoning. According to the definition in dictionary, gig economy is \"*an economic sector consisting of part-time, temporary and freelance jobs*\" Gig economy is also ubiquitous like the daily platform we use, Uber, Uber Eats, Lyft, etc. \n",
    "\n",
    "Reading Reference: https://gadallon.substack.com/p/the-future-of-the-gig-economy-growth?r=zgog\n"
   ]
  },
  {
   "cell_type": "code",
   "execution_count": null,
   "id": "131f7bae",
   "metadata": {},
   "outputs": [],
   "source": []
  }
 ],
 "metadata": {
  "kernelspec": {
   "display_name": "Python 3 (ipykernel)",
   "language": "python",
   "name": "python3"
  },
  "language_info": {
   "codemirror_mode": {
    "name": "ipython",
    "version": 3
   },
   "file_extension": ".py",
   "mimetype": "text/x-python",
   "name": "python",
   "nbconvert_exporter": "python",
   "pygments_lexer": "ipython3",
   "version": "3.9.7"
  }
 },
 "nbformat": 4,
 "nbformat_minor": 5
}
